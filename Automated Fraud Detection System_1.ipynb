{
  "cells": [
    {
      "cell_type": "markdown",
      "metadata": {
        "id": "5zXK2kwqHNNR"
      },
      "source": [
        "### MIE370 Project 1 --- Classification and Ensemble models\n",
        "**Deadline: Sep 27th, 9PM [The deadline is firm and will be enforced strictly. Plan ahead and submit hours before the deadline to avoid the risk of lateness penalty.]**"
      ]
    },
    {
      "cell_type": "markdown",
      "metadata": {
        "id": "TLrFmA_PHqoG"
      },
      "source": [
        "# Project 1 **[100 Marks]**\n",
        "You are going to apply several ML methods for a predictive task on a new dataset.\n",
        "\n",
        "We're going to work with the [fake bill dataset](https://www.kaggle.com/datasets/alexandrepetit881234/fake-bills). The dataset examine whether the bill is fraudulent based on its dimensions.  \n",
        "\n",
        "\n",
        "Download it using the cells below:"
      ]
    },
    {
      "cell_type": "code",
      "execution_count": 1,
      "metadata": {
        "colab": {
          "base_uri": "https://localhost:8080/"
        },
        "id": "R9dYTjSNHt5k",
        "outputId": "e6eb9fc8-efdc-48f7-e567-41f19db5ff64"
      },
      "outputs": [
        {
          "name": "stdout",
          "output_type": "stream",
          "text": [
            "Requirement already satisfied: wget in d:\\python\\lib\\site-packages (3.2)\n",
            "Note: you may need to restart the kernel to use updated packages.\n"
          ]
        }
      ],
      "source": [
        "pip install wget"
      ]
    },
    {
      "cell_type": "code",
      "execution_count": 1,
      "metadata": {
        "id": "7A9Bh3paHwDN"
      },
      "outputs": [],
      "source": [
        "import wget\n",
        "import pandas as pd\n",
        "import numpy as np\n",
        "import matplotlib.pyplot as plt\n"
      ]
    },
    {
      "cell_type": "markdown",
      "metadata": {
        "id": "5vhVdrhvH04P"
      },
      "source": [
        "## Part 0: Getting started **[5 Marks]**\n",
        "First off, load the dataset in CSV file as a Pandas DataFrame and name it `df`. Print out the first few rows of the dataset, and take a look at the features data and the target columns.\n",
        "\n",
        "* Identify the target column (the variable we aim to predict)?____ **[1]**\n",
        "* How many features do we have in this dataset in order to predict the target? ___ **[1]**\n",
        "\n",
        "Now add an additional column containing either 1 (if the target column is True) or 0 (if the target column is False). This will be the new target value to classify the data **[3]**"
      ]
    },
    {
      "cell_type": "code",
      "execution_count": 2,
      "metadata": {
        "id": "YIm9WhV-H2VH"
      },
      "outputs": [],
      "source": [
        "myfile = wget.download('https://raw.githubusercontent.com/chf-NewStart/MIE370-TA-Material/main/modified_fake_bills_csv.csv')\n",
        "df = pd.read_csv(myfile, delimiter=',')"
      ]
    },
    {
      "cell_type": "code",
      "execution_count": 3,
      "metadata": {
        "id": "mGHQW0HxVS8M"
      },
      "outputs": [
        {
          "data": {
            "text/html": [
              "<div>\n",
              "<style scoped>\n",
              "    .dataframe tbody tr th:only-of-type {\n",
              "        vertical-align: middle;\n",
              "    }\n",
              "\n",
              "    .dataframe tbody tr th {\n",
              "        vertical-align: top;\n",
              "    }\n",
              "\n",
              "    .dataframe thead th {\n",
              "        text-align: right;\n",
              "    }\n",
              "</style>\n",
              "<table border=\"1\" class=\"dataframe\">\n",
              "  <thead>\n",
              "    <tr style=\"text-align: right;\">\n",
              "      <th></th>\n",
              "      <th>is_genuine</th>\n",
              "      <th>diagonal</th>\n",
              "      <th>height_left</th>\n",
              "      <th>height_right</th>\n",
              "      <th>margin_low</th>\n",
              "      <th>margin_up</th>\n",
              "      <th>length</th>\n",
              "    </tr>\n",
              "  </thead>\n",
              "  <tbody>\n",
              "    <tr>\n",
              "      <th>0</th>\n",
              "      <td>True</td>\n",
              "      <td>515.43</td>\n",
              "      <td>104.86</td>\n",
              "      <td>104.95</td>\n",
              "      <td>4.52</td>\n",
              "      <td>2.89</td>\n",
              "      <td>112.83</td>\n",
              "    </tr>\n",
              "    <tr>\n",
              "      <th>1</th>\n",
              "      <td>True</td>\n",
              "      <td>514.38</td>\n",
              "      <td>103.36</td>\n",
              "      <td>103.66</td>\n",
              "      <td>3.77</td>\n",
              "      <td>2.99</td>\n",
              "      <td>113.09</td>\n",
              "    </tr>\n",
              "    <tr>\n",
              "      <th>2</th>\n",
              "      <td>True</td>\n",
              "      <td>518.07</td>\n",
              "      <td>104.48</td>\n",
              "      <td>103.50</td>\n",
              "      <td>4.40</td>\n",
              "      <td>2.94</td>\n",
              "      <td>113.16</td>\n",
              "    </tr>\n",
              "    <tr>\n",
              "      <th>3</th>\n",
              "      <td>True</td>\n",
              "      <td>514.08</td>\n",
              "      <td>103.91</td>\n",
              "      <td>103.94</td>\n",
              "      <td>3.62</td>\n",
              "      <td>3.01</td>\n",
              "      <td>113.51</td>\n",
              "    </tr>\n",
              "    <tr>\n",
              "      <th>4</th>\n",
              "      <td>True</td>\n",
              "      <td>515.19</td>\n",
              "      <td>104.28</td>\n",
              "      <td>103.46</td>\n",
              "      <td>4.04</td>\n",
              "      <td>3.48</td>\n",
              "      <td>112.54</td>\n",
              "    </tr>\n",
              "  </tbody>\n",
              "</table>\n",
              "</div>"
            ],
            "text/plain": [
              "   is_genuine  diagonal  height_left  height_right  margin_low  margin_up  \\\n",
              "0        True    515.43       104.86        104.95        4.52       2.89   \n",
              "1        True    514.38       103.36        103.66        3.77       2.99   \n",
              "2        True    518.07       104.48        103.50        4.40       2.94   \n",
              "3        True    514.08       103.91        103.94        3.62       3.01   \n",
              "4        True    515.19       104.28        103.46        4.04       3.48   \n",
              "\n",
              "   length  \n",
              "0  112.83  \n",
              "1  113.09  \n",
              "2  113.16  \n",
              "3  113.51  \n",
              "4  112.54  "
            ]
          },
          "execution_count": 3,
          "metadata": {},
          "output_type": "execute_result"
        }
      ],
      "source": [
        "### YOUR CODE HERE ###\n",
        "df.head()"
      ]
    },
    {
      "cell_type": "markdown",
      "metadata": {},
      "source": [
        "- The target column is: is_genuine\n",
        "\n",
        "\n",
        "\n",
        "- This dataset contains 6 features in order to predict the target. They are: diagonal, height_left, height_right, margin_low, margin_up, length."
      ]
    },
    {
      "cell_type": "code",
      "execution_count": 4,
      "metadata": {},
      "outputs": [
        {
          "data": {
            "text/plain": [
              "is_genuine         bool\n",
              "diagonal        float64\n",
              "height_left     float64\n",
              "height_right    float64\n",
              "margin_low      float64\n",
              "margin_up       float64\n",
              "length          float64\n",
              "dtype: object"
            ]
          },
          "execution_count": 4,
          "metadata": {},
          "output_type": "execute_result"
        }
      ],
      "source": [
        "# Firt identify the data types of each column\n",
        "df.dtypes"
      ]
    },
    {
      "cell_type": "code",
      "execution_count": 5,
      "metadata": {},
      "outputs": [
        {
          "data": {
            "text/html": [
              "<div>\n",
              "<style scoped>\n",
              "    .dataframe tbody tr th:only-of-type {\n",
              "        vertical-align: middle;\n",
              "    }\n",
              "\n",
              "    .dataframe tbody tr th {\n",
              "        vertical-align: top;\n",
              "    }\n",
              "\n",
              "    .dataframe thead th {\n",
              "        text-align: right;\n",
              "    }\n",
              "</style>\n",
              "<table border=\"1\" class=\"dataframe\">\n",
              "  <thead>\n",
              "    <tr style=\"text-align: right;\">\n",
              "      <th></th>\n",
              "      <th>is_genuine</th>\n",
              "      <th>diagonal</th>\n",
              "      <th>height_left</th>\n",
              "      <th>height_right</th>\n",
              "      <th>margin_low</th>\n",
              "      <th>margin_up</th>\n",
              "      <th>length</th>\n",
              "      <th>target</th>\n",
              "    </tr>\n",
              "  </thead>\n",
              "  <tbody>\n",
              "    <tr>\n",
              "      <th>0</th>\n",
              "      <td>True</td>\n",
              "      <td>515.43</td>\n",
              "      <td>104.86</td>\n",
              "      <td>104.95</td>\n",
              "      <td>4.52</td>\n",
              "      <td>2.89</td>\n",
              "      <td>112.83</td>\n",
              "      <td>1</td>\n",
              "    </tr>\n",
              "    <tr>\n",
              "      <th>1</th>\n",
              "      <td>True</td>\n",
              "      <td>514.38</td>\n",
              "      <td>103.36</td>\n",
              "      <td>103.66</td>\n",
              "      <td>3.77</td>\n",
              "      <td>2.99</td>\n",
              "      <td>113.09</td>\n",
              "      <td>1</td>\n",
              "    </tr>\n",
              "    <tr>\n",
              "      <th>2</th>\n",
              "      <td>True</td>\n",
              "      <td>518.07</td>\n",
              "      <td>104.48</td>\n",
              "      <td>103.50</td>\n",
              "      <td>4.40</td>\n",
              "      <td>2.94</td>\n",
              "      <td>113.16</td>\n",
              "      <td>1</td>\n",
              "    </tr>\n",
              "    <tr>\n",
              "      <th>3</th>\n",
              "      <td>True</td>\n",
              "      <td>514.08</td>\n",
              "      <td>103.91</td>\n",
              "      <td>103.94</td>\n",
              "      <td>3.62</td>\n",
              "      <td>3.01</td>\n",
              "      <td>113.51</td>\n",
              "      <td>1</td>\n",
              "    </tr>\n",
              "    <tr>\n",
              "      <th>4</th>\n",
              "      <td>True</td>\n",
              "      <td>515.19</td>\n",
              "      <td>104.28</td>\n",
              "      <td>103.46</td>\n",
              "      <td>4.04</td>\n",
              "      <td>3.48</td>\n",
              "      <td>112.54</td>\n",
              "      <td>1</td>\n",
              "    </tr>\n",
              "  </tbody>\n",
              "</table>\n",
              "</div>"
            ],
            "text/plain": [
              "   is_genuine  diagonal  height_left  height_right  margin_low  margin_up  \\\n",
              "0        True    515.43       104.86        104.95        4.52       2.89   \n",
              "1        True    514.38       103.36        103.66        3.77       2.99   \n",
              "2        True    518.07       104.48        103.50        4.40       2.94   \n",
              "3        True    514.08       103.91        103.94        3.62       3.01   \n",
              "4        True    515.19       104.28        103.46        4.04       3.48   \n",
              "\n",
              "   length  target  \n",
              "0  112.83       1  \n",
              "1  113.09       1  \n",
              "2  113.16       1  \n",
              "3  113.51       1  \n",
              "4  112.54       1  "
            ]
          },
          "execution_count": 5,
          "metadata": {},
          "output_type": "execute_result"
        }
      ],
      "source": [
        "# The additional target column\n",
        "df[\"target\"] = df[\"is_genuine\"].apply(lambda x: 1 if x == True else 0)\n",
        "df.head()"
      ]
    },
    {
      "cell_type": "code",
      "execution_count": 6,
      "metadata": {},
      "outputs": [
        {
          "name": "stdout",
          "output_type": "stream",
          "text": [
            "(1000, 8)\n",
            "(500, 8)\n",
            "(1000, 8)\n",
            "(500, 8)\n",
            "0\n"
          ]
        }
      ],
      "source": [
        "# check if converted correctly\n",
        "\n",
        "# number of is_genuine == True and == False\n",
        "print(df[df[\"is_genuine\"] == True].shape)\n",
        "print(df[df[\"is_genuine\"] == False].shape)\n",
        "\n",
        "# number of target == 1 and == 0\n",
        "print(df[df[\"target\"] == 1].shape)\n",
        "print(df[df[\"target\"] == 0].shape)\n",
        "\n",
        "# now we know that both the columns have the same numbers of True(or 1) and False(or 0), we check if they are aligned with each other\n",
        "is_consistent = df[\"is_genuine\"] == (df[\"target\"] == 1)\n",
        "print((is_consistent == False).sum())\n",
        "# so we see that the is_genuine and target is very aligned, since the sum of they not aligned = 0"
      ]
    },
    {
      "cell_type": "markdown",
      "metadata": {
        "id": "LX2Jud4dH3nO"
      },
      "source": [
        "# Part A: Pre-processing **[16 Marks Total]**"
      ]
    },
    {
      "cell_type": "markdown",
      "metadata": {
        "id": "U_GKmXtPH_TJ"
      },
      "source": [
        "## Part A1: Data Cleaning **[6 marks]**\n",
        "\n",
        "Each row in this dataset represents the physical measurements of a single banknote (paper money).\n",
        "\n",
        "The columns include various dimensions of the banknote, such as its diagonal, left height, right height, lower margin, upper margin, and total length. The 'is_genuine' column indicates whether the banknote is genuine or counterfeit.\n",
        "\n",
        "\n",
        "Check for missing values **[2]**. If any missing values are found, delete the entire row **[2]**\n",
        "\n",
        "Report the size of the dataset after this operation (how many rows and how many columns after the cleaning) **[2]**\n",
        "\n",
        "Some useful hints:\n",
        "\n",
        "\n",
        "*   [THIS](https://pandas.pydata.org/docs/reference/api/pandas.DataFrame.isna.html) returns a boolean same-sized object indicating if the values are NA.\n",
        "*   [THIS](https://pandas.pydata.org/docs/reference/api/pandas.DataFrame.dropna.html#pandas.DataFrame.dropna) removes missing values.\n",
        "\n",
        "\n",
        "\n"
      ]
    },
    {
      "cell_type": "code",
      "execution_count": 7,
      "metadata": {
        "id": "p8C0XvwtI4Io"
      },
      "outputs": [
        {
          "name": "stdout",
          "output_type": "stream",
          "text": [
            "is_genuine       0\n",
            "diagonal         0\n",
            "height_left      0\n",
            "height_right     0\n",
            "margin_low      37\n",
            "margin_up        0\n",
            "length           0\n",
            "target           0\n",
            "dtype: int64\n"
          ]
        },
        {
          "data": {
            "text/html": [
              "<div>\n",
              "<style scoped>\n",
              "    .dataframe tbody tr th:only-of-type {\n",
              "        vertical-align: middle;\n",
              "    }\n",
              "\n",
              "    .dataframe tbody tr th {\n",
              "        vertical-align: top;\n",
              "    }\n",
              "\n",
              "    .dataframe thead th {\n",
              "        text-align: right;\n",
              "    }\n",
              "</style>\n",
              "<table border=\"1\" class=\"dataframe\">\n",
              "  <thead>\n",
              "    <tr style=\"text-align: right;\">\n",
              "      <th></th>\n",
              "      <th>is_genuine</th>\n",
              "      <th>diagonal</th>\n",
              "      <th>height_left</th>\n",
              "      <th>height_right</th>\n",
              "      <th>margin_low</th>\n",
              "      <th>margin_up</th>\n",
              "      <th>length</th>\n",
              "      <th>target</th>\n",
              "    </tr>\n",
              "  </thead>\n",
              "  <tbody>\n",
              "    <tr>\n",
              "      <th>72</th>\n",
              "      <td>True</td>\n",
              "      <td>515.82</td>\n",
              "      <td>103.89</td>\n",
              "      <td>103.45</td>\n",
              "      <td>NaN</td>\n",
              "      <td>3.25</td>\n",
              "      <td>112.79</td>\n",
              "      <td>1</td>\n",
              "    </tr>\n",
              "    <tr>\n",
              "      <th>99</th>\n",
              "      <td>True</td>\n",
              "      <td>515.79</td>\n",
              "      <td>104.07</td>\n",
              "      <td>104.18</td>\n",
              "      <td>NaN</td>\n",
              "      <td>3.14</td>\n",
              "      <td>113.08</td>\n",
              "      <td>1</td>\n",
              "    </tr>\n",
              "    <tr>\n",
              "      <th>151</th>\n",
              "      <td>True</td>\n",
              "      <td>516.21</td>\n",
              "      <td>103.80</td>\n",
              "      <td>104.38</td>\n",
              "      <td>NaN</td>\n",
              "      <td>3.02</td>\n",
              "      <td>112.93</td>\n",
              "      <td>1</td>\n",
              "    </tr>\n",
              "    <tr>\n",
              "      <th>197</th>\n",
              "      <td>True</td>\n",
              "      <td>514.35</td>\n",
              "      <td>103.66</td>\n",
              "      <td>103.80</td>\n",
              "      <td>NaN</td>\n",
              "      <td>3.62</td>\n",
              "      <td>113.27</td>\n",
              "      <td>1</td>\n",
              "    </tr>\n",
              "    <tr>\n",
              "      <th>241</th>\n",
              "      <td>True</td>\n",
              "      <td>515.49</td>\n",
              "      <td>104.14</td>\n",
              "      <td>104.06</td>\n",
              "      <td>NaN</td>\n",
              "      <td>3.02</td>\n",
              "      <td>112.36</td>\n",
              "      <td>1</td>\n",
              "    </tr>\n",
              "    <tr>\n",
              "      <th>251</th>\n",
              "      <td>True</td>\n",
              "      <td>515.40</td>\n",
              "      <td>103.26</td>\n",
              "      <td>102.82</td>\n",
              "      <td>NaN</td>\n",
              "      <td>2.95</td>\n",
              "      <td>113.22</td>\n",
              "      <td>1</td>\n",
              "    </tr>\n",
              "    <tr>\n",
              "      <th>284</th>\n",
              "      <td>True</td>\n",
              "      <td>515.76</td>\n",
              "      <td>103.83</td>\n",
              "      <td>103.76</td>\n",
              "      <td>NaN</td>\n",
              "      <td>3.23</td>\n",
              "      <td>113.29</td>\n",
              "      <td>1</td>\n",
              "    </tr>\n",
              "    <tr>\n",
              "      <th>334</th>\n",
              "      <td>True</td>\n",
              "      <td>515.55</td>\n",
              "      <td>103.70</td>\n",
              "      <td>103.96</td>\n",
              "      <td>NaN</td>\n",
              "      <td>3.00</td>\n",
              "      <td>113.36</td>\n",
              "      <td>1</td>\n",
              "    </tr>\n",
              "    <tr>\n",
              "      <th>410</th>\n",
              "      <td>True</td>\n",
              "      <td>517.68</td>\n",
              "      <td>103.72</td>\n",
              "      <td>103.51</td>\n",
              "      <td>NaN</td>\n",
              "      <td>3.12</td>\n",
              "      <td>112.95</td>\n",
              "      <td>1</td>\n",
              "    </tr>\n",
              "    <tr>\n",
              "      <th>413</th>\n",
              "      <td>True</td>\n",
              "      <td>516.90</td>\n",
              "      <td>103.66</td>\n",
              "      <td>103.50</td>\n",
              "      <td>NaN</td>\n",
              "      <td>3.16</td>\n",
              "      <td>112.95</td>\n",
              "      <td>1</td>\n",
              "    </tr>\n",
              "    <tr>\n",
              "      <th>445</th>\n",
              "      <td>True</td>\n",
              "      <td>517.02</td>\n",
              "      <td>104.42</td>\n",
              "      <td>103.22</td>\n",
              "      <td>NaN</td>\n",
              "      <td>3.01</td>\n",
              "      <td>112.97</td>\n",
              "      <td>1</td>\n",
              "    </tr>\n",
              "    <tr>\n",
              "      <th>481</th>\n",
              "      <td>True</td>\n",
              "      <td>515.43</td>\n",
              "      <td>103.53</td>\n",
              "      <td>103.96</td>\n",
              "      <td>NaN</td>\n",
              "      <td>2.71</td>\n",
              "      <td>113.99</td>\n",
              "      <td>1</td>\n",
              "    </tr>\n",
              "    <tr>\n",
              "      <th>505</th>\n",
              "      <td>True</td>\n",
              "      <td>516.03</td>\n",
              "      <td>103.97</td>\n",
              "      <td>104.05</td>\n",
              "      <td>NaN</td>\n",
              "      <td>2.98</td>\n",
              "      <td>113.65</td>\n",
              "      <td>1</td>\n",
              "    </tr>\n",
              "    <tr>\n",
              "      <th>611</th>\n",
              "      <td>True</td>\n",
              "      <td>515.40</td>\n",
              "      <td>103.68</td>\n",
              "      <td>103.49</td>\n",
              "      <td>NaN</td>\n",
              "      <td>3.30</td>\n",
              "      <td>112.84</td>\n",
              "      <td>1</td>\n",
              "    </tr>\n",
              "    <tr>\n",
              "      <th>654</th>\n",
              "      <td>True</td>\n",
              "      <td>515.91</td>\n",
              "      <td>103.69</td>\n",
              "      <td>103.54</td>\n",
              "      <td>NaN</td>\n",
              "      <td>2.70</td>\n",
              "      <td>112.79</td>\n",
              "      <td>1</td>\n",
              "    </tr>\n",
              "    <tr>\n",
              "      <th>675</th>\n",
              "      <td>True</td>\n",
              "      <td>514.80</td>\n",
              "      <td>103.85</td>\n",
              "      <td>103.91</td>\n",
              "      <td>NaN</td>\n",
              "      <td>2.56</td>\n",
              "      <td>113.27</td>\n",
              "      <td>1</td>\n",
              "    </tr>\n",
              "    <tr>\n",
              "      <th>710</th>\n",
              "      <td>True</td>\n",
              "      <td>516.09</td>\n",
              "      <td>103.97</td>\n",
              "      <td>103.86</td>\n",
              "      <td>NaN</td>\n",
              "      <td>3.07</td>\n",
              "      <td>112.65</td>\n",
              "      <td>1</td>\n",
              "    </tr>\n",
              "    <tr>\n",
              "      <th>739</th>\n",
              "      <td>True</td>\n",
              "      <td>516.21</td>\n",
              "      <td>103.74</td>\n",
              "      <td>103.76</td>\n",
              "      <td>NaN</td>\n",
              "      <td>3.09</td>\n",
              "      <td>112.41</td>\n",
              "      <td>1</td>\n",
              "    </tr>\n",
              "    <tr>\n",
              "      <th>742</th>\n",
              "      <td>True</td>\n",
              "      <td>516.42</td>\n",
              "      <td>104.06</td>\n",
              "      <td>103.96</td>\n",
              "      <td>NaN</td>\n",
              "      <td>3.24</td>\n",
              "      <td>113.07</td>\n",
              "      <td>1</td>\n",
              "    </tr>\n",
              "    <tr>\n",
              "      <th>780</th>\n",
              "      <td>True</td>\n",
              "      <td>517.23</td>\n",
              "      <td>103.95</td>\n",
              "      <td>103.79</td>\n",
              "      <td>NaN</td>\n",
              "      <td>3.13</td>\n",
              "      <td>113.41</td>\n",
              "      <td>1</td>\n",
              "    </tr>\n",
              "    <tr>\n",
              "      <th>798</th>\n",
              "      <td>True</td>\n",
              "      <td>515.88</td>\n",
              "      <td>103.84</td>\n",
              "      <td>103.62</td>\n",
              "      <td>NaN</td>\n",
              "      <td>3.01</td>\n",
              "      <td>114.44</td>\n",
              "      <td>1</td>\n",
              "    </tr>\n",
              "    <tr>\n",
              "      <th>844</th>\n",
              "      <td>True</td>\n",
              "      <td>514.86</td>\n",
              "      <td>104.14</td>\n",
              "      <td>104.49</td>\n",
              "      <td>NaN</td>\n",
              "      <td>2.99</td>\n",
              "      <td>113.35</td>\n",
              "      <td>1</td>\n",
              "    </tr>\n",
              "    <tr>\n",
              "      <th>845</th>\n",
              "      <td>True</td>\n",
              "      <td>516.06</td>\n",
              "      <td>104.21</td>\n",
              "      <td>104.05</td>\n",
              "      <td>NaN</td>\n",
              "      <td>2.90</td>\n",
              "      <td>113.62</td>\n",
              "      <td>1</td>\n",
              "    </tr>\n",
              "    <tr>\n",
              "      <th>871</th>\n",
              "      <td>True</td>\n",
              "      <td>514.11</td>\n",
              "      <td>104.07</td>\n",
              "      <td>103.75</td>\n",
              "      <td>NaN</td>\n",
              "      <td>3.07</td>\n",
              "      <td>113.27</td>\n",
              "      <td>1</td>\n",
              "    </tr>\n",
              "    <tr>\n",
              "      <th>895</th>\n",
              "      <td>True</td>\n",
              "      <td>515.43</td>\n",
              "      <td>103.68</td>\n",
              "      <td>103.80</td>\n",
              "      <td>NaN</td>\n",
              "      <td>2.98</td>\n",
              "      <td>113.82</td>\n",
              "      <td>1</td>\n",
              "    </tr>\n",
              "    <tr>\n",
              "      <th>919</th>\n",
              "      <td>True</td>\n",
              "      <td>515.76</td>\n",
              "      <td>103.68</td>\n",
              "      <td>103.45</td>\n",
              "      <td>NaN</td>\n",
              "      <td>2.58</td>\n",
              "      <td>113.68</td>\n",
              "      <td>1</td>\n",
              "    </tr>\n",
              "    <tr>\n",
              "      <th>945</th>\n",
              "      <td>True</td>\n",
              "      <td>516.27</td>\n",
              "      <td>103.74</td>\n",
              "      <td>103.52</td>\n",
              "      <td>NaN</td>\n",
              "      <td>3.02</td>\n",
              "      <td>112.78</td>\n",
              "      <td>1</td>\n",
              "    </tr>\n",
              "    <tr>\n",
              "      <th>946</th>\n",
              "      <td>True</td>\n",
              "      <td>514.89</td>\n",
              "      <td>103.87</td>\n",
              "      <td>104.66</td>\n",
              "      <td>NaN</td>\n",
              "      <td>3.27</td>\n",
              "      <td>112.68</td>\n",
              "      <td>1</td>\n",
              "    </tr>\n",
              "    <tr>\n",
              "      <th>981</th>\n",
              "      <td>True</td>\n",
              "      <td>516.06</td>\n",
              "      <td>104.23</td>\n",
              "      <td>103.72</td>\n",
              "      <td>NaN</td>\n",
              "      <td>2.99</td>\n",
              "      <td>113.37</td>\n",
              "      <td>1</td>\n",
              "    </tr>\n",
              "    <tr>\n",
              "      <th>1076</th>\n",
              "      <td>False</td>\n",
              "      <td>514.71</td>\n",
              "      <td>104.27</td>\n",
              "      <td>104.44</td>\n",
              "      <td>NaN</td>\n",
              "      <td>3.21</td>\n",
              "      <td>111.87</td>\n",
              "      <td>0</td>\n",
              "    </tr>\n",
              "    <tr>\n",
              "      <th>1121</th>\n",
              "      <td>False</td>\n",
              "      <td>514.20</td>\n",
              "      <td>104.38</td>\n",
              "      <td>104.19</td>\n",
              "      <td>NaN</td>\n",
              "      <td>3.17</td>\n",
              "      <td>112.39</td>\n",
              "      <td>0</td>\n",
              "    </tr>\n",
              "    <tr>\n",
              "      <th>1176</th>\n",
              "      <td>False</td>\n",
              "      <td>514.77</td>\n",
              "      <td>104.05</td>\n",
              "      <td>103.94</td>\n",
              "      <td>NaN</td>\n",
              "      <td>3.02</td>\n",
              "      <td>111.29</td>\n",
              "      <td>0</td>\n",
              "    </tr>\n",
              "    <tr>\n",
              "      <th>1303</th>\n",
              "      <td>False</td>\n",
              "      <td>516.51</td>\n",
              "      <td>104.49</td>\n",
              "      <td>103.76</td>\n",
              "      <td>NaN</td>\n",
              "      <td>2.93</td>\n",
              "      <td>111.21</td>\n",
              "      <td>0</td>\n",
              "    </tr>\n",
              "    <tr>\n",
              "      <th>1315</th>\n",
              "      <td>False</td>\n",
              "      <td>516.24</td>\n",
              "      <td>104.15</td>\n",
              "      <td>104.17</td>\n",
              "      <td>NaN</td>\n",
              "      <td>3.40</td>\n",
              "      <td>112.29</td>\n",
              "      <td>0</td>\n",
              "    </tr>\n",
              "    <tr>\n",
              "      <th>1347</th>\n",
              "      <td>False</td>\n",
              "      <td>515.16</td>\n",
              "      <td>104.46</td>\n",
              "      <td>104.12</td>\n",
              "      <td>NaN</td>\n",
              "      <td>3.61</td>\n",
              "      <td>110.31</td>\n",
              "      <td>0</td>\n",
              "    </tr>\n",
              "    <tr>\n",
              "      <th>1435</th>\n",
              "      <td>False</td>\n",
              "      <td>517.98</td>\n",
              "      <td>104.33</td>\n",
              "      <td>104.41</td>\n",
              "      <td>NaN</td>\n",
              "      <td>3.56</td>\n",
              "      <td>111.47</td>\n",
              "      <td>0</td>\n",
              "    </tr>\n",
              "    <tr>\n",
              "      <th>1438</th>\n",
              "      <td>False</td>\n",
              "      <td>515.70</td>\n",
              "      <td>104.28</td>\n",
              "      <td>104.29</td>\n",
              "      <td>NaN</td>\n",
              "      <td>3.24</td>\n",
              "      <td>111.49</td>\n",
              "      <td>0</td>\n",
              "    </tr>\n",
              "  </tbody>\n",
              "</table>\n",
              "</div>"
            ],
            "text/plain": [
              "      is_genuine  diagonal  height_left  height_right  margin_low  margin_up  \\\n",
              "72          True    515.82       103.89        103.45         NaN       3.25   \n",
              "99          True    515.79       104.07        104.18         NaN       3.14   \n",
              "151         True    516.21       103.80        104.38         NaN       3.02   \n",
              "197         True    514.35       103.66        103.80         NaN       3.62   \n",
              "241         True    515.49       104.14        104.06         NaN       3.02   \n",
              "251         True    515.40       103.26        102.82         NaN       2.95   \n",
              "284         True    515.76       103.83        103.76         NaN       3.23   \n",
              "334         True    515.55       103.70        103.96         NaN       3.00   \n",
              "410         True    517.68       103.72        103.51         NaN       3.12   \n",
              "413         True    516.90       103.66        103.50         NaN       3.16   \n",
              "445         True    517.02       104.42        103.22         NaN       3.01   \n",
              "481         True    515.43       103.53        103.96         NaN       2.71   \n",
              "505         True    516.03       103.97        104.05         NaN       2.98   \n",
              "611         True    515.40       103.68        103.49         NaN       3.30   \n",
              "654         True    515.91       103.69        103.54         NaN       2.70   \n",
              "675         True    514.80       103.85        103.91         NaN       2.56   \n",
              "710         True    516.09       103.97        103.86         NaN       3.07   \n",
              "739         True    516.21       103.74        103.76         NaN       3.09   \n",
              "742         True    516.42       104.06        103.96         NaN       3.24   \n",
              "780         True    517.23       103.95        103.79         NaN       3.13   \n",
              "798         True    515.88       103.84        103.62         NaN       3.01   \n",
              "844         True    514.86       104.14        104.49         NaN       2.99   \n",
              "845         True    516.06       104.21        104.05         NaN       2.90   \n",
              "871         True    514.11       104.07        103.75         NaN       3.07   \n",
              "895         True    515.43       103.68        103.80         NaN       2.98   \n",
              "919         True    515.76       103.68        103.45         NaN       2.58   \n",
              "945         True    516.27       103.74        103.52         NaN       3.02   \n",
              "946         True    514.89       103.87        104.66         NaN       3.27   \n",
              "981         True    516.06       104.23        103.72         NaN       2.99   \n",
              "1076       False    514.71       104.27        104.44         NaN       3.21   \n",
              "1121       False    514.20       104.38        104.19         NaN       3.17   \n",
              "1176       False    514.77       104.05        103.94         NaN       3.02   \n",
              "1303       False    516.51       104.49        103.76         NaN       2.93   \n",
              "1315       False    516.24       104.15        104.17         NaN       3.40   \n",
              "1347       False    515.16       104.46        104.12         NaN       3.61   \n",
              "1435       False    517.98       104.33        104.41         NaN       3.56   \n",
              "1438       False    515.70       104.28        104.29         NaN       3.24   \n",
              "\n",
              "      length  target  \n",
              "72    112.79       1  \n",
              "99    113.08       1  \n",
              "151   112.93       1  \n",
              "197   113.27       1  \n",
              "241   112.36       1  \n",
              "251   113.22       1  \n",
              "284   113.29       1  \n",
              "334   113.36       1  \n",
              "410   112.95       1  \n",
              "413   112.95       1  \n",
              "445   112.97       1  \n",
              "481   113.99       1  \n",
              "505   113.65       1  \n",
              "611   112.84       1  \n",
              "654   112.79       1  \n",
              "675   113.27       1  \n",
              "710   112.65       1  \n",
              "739   112.41       1  \n",
              "742   113.07       1  \n",
              "780   113.41       1  \n",
              "798   114.44       1  \n",
              "844   113.35       1  \n",
              "845   113.62       1  \n",
              "871   113.27       1  \n",
              "895   113.82       1  \n",
              "919   113.68       1  \n",
              "945   112.78       1  \n",
              "946   112.68       1  \n",
              "981   113.37       1  \n",
              "1076  111.87       0  \n",
              "1121  112.39       0  \n",
              "1176  111.29       0  \n",
              "1303  111.21       0  \n",
              "1315  112.29       0  \n",
              "1347  110.31       0  \n",
              "1435  111.47       0  \n",
              "1438  111.49       0  "
            ]
          },
          "metadata": {},
          "output_type": "display_data"
        }
      ],
      "source": [
        "### YOUR CODE HERE ###\n",
        "\n",
        "# check which column has the missing value\n",
        "print(df.isna().sum())\n",
        "\n",
        "# check which row contains the miss value\n",
        "display(df[df[\"margin_low\"].isna()])\n"
      ]
    },
    {
      "cell_type": "code",
      "execution_count": 8,
      "metadata": {},
      "outputs": [],
      "source": [
        "# delete the row with missing value\n",
        "df.dropna(axis=0, inplace=True)"
      ]
    },
    {
      "cell_type": "code",
      "execution_count": 9,
      "metadata": {},
      "outputs": [
        {
          "data": {
            "text/plain": [
              "(1463, 8)"
            ]
          },
          "execution_count": 9,
          "metadata": {},
          "output_type": "execute_result"
        }
      ],
      "source": [
        "# check the size of df after remove them\n",
        "df.shape"
      ]
    },
    {
      "cell_type": "markdown",
      "metadata": {},
      "source": [
        "The size of the dataframe is 1463*8 (1463 rows, 8 columns) after deleting the row with miss value.\n",
        "On the other hand, since we found that there are 37 rows containing the missing value of margin_low, 1500 - 37 = 1463, which aligns with our conclusion."
      ]
    },
    {
      "cell_type": "markdown",
      "metadata": {
        "id": "Cvr212qtIHH9"
      },
      "source": [
        "## Part A2: Final Clean Up Before Splitting **[3 Marks]**\n",
        "\n",
        "\n",
        "Since our aim here is to (eventually) obtain the best accuracy we can on the test set (we'll do all our tuning on the training/validation sets, however.) Therefore, it is best practice to have a training set (from which there is a rotating validation subset) and a test set.\n",
        "\n",
        "**BUT BEFORE SPLITTING (you will perform splitting the dataset in Part A3), Let's do some final clean ups in this part:**\n",
        "\n",
        "See the example given [here](https://scikit-learn.org/stable/modules/generated/sklearn.model_selection.train_test_split.html).\n",
        "\n",
        "* The first argument in train_test_split\n",
        "is the **X value** (the quanities we use\n",
        "in order to predict)\n",
        "* The second argument is the **y value** (the quantity we want to predict)\n",
        "\n",
        "We need to only keep the feature columns for the X value. Given that, prepare the variables X and y. **[3]**\n",
        "\n",
        "Check [this](https://pandas.pydata.org/pandas-docs/stable/reference/api/pandas.DataFrame.drop.html) example to see how to drop columns\n",
        "\n",
        "*hint: use axis = 1 to drop columns, otherwise it's defaulted to axis = 0 which is used to drop rows*\n"
      ]
    },
    {
      "cell_type": "code",
      "execution_count": 10,
      "metadata": {
        "id": "qGsTNHqvI4yV"
      },
      "outputs": [
        {
          "data": {
            "text/html": [
              "<div>\n",
              "<style scoped>\n",
              "    .dataframe tbody tr th:only-of-type {\n",
              "        vertical-align: middle;\n",
              "    }\n",
              "\n",
              "    .dataframe tbody tr th {\n",
              "        vertical-align: top;\n",
              "    }\n",
              "\n",
              "    .dataframe thead th {\n",
              "        text-align: right;\n",
              "    }\n",
              "</style>\n",
              "<table border=\"1\" class=\"dataframe\">\n",
              "  <thead>\n",
              "    <tr style=\"text-align: right;\">\n",
              "      <th></th>\n",
              "      <th>diagonal</th>\n",
              "      <th>height_left</th>\n",
              "      <th>height_right</th>\n",
              "      <th>margin_low</th>\n",
              "      <th>margin_up</th>\n",
              "      <th>length</th>\n",
              "    </tr>\n",
              "  </thead>\n",
              "  <tbody>\n",
              "    <tr>\n",
              "      <th>0</th>\n",
              "      <td>515.43</td>\n",
              "      <td>104.86</td>\n",
              "      <td>104.95</td>\n",
              "      <td>4.52</td>\n",
              "      <td>2.89</td>\n",
              "      <td>112.83</td>\n",
              "    </tr>\n",
              "    <tr>\n",
              "      <th>1</th>\n",
              "      <td>514.38</td>\n",
              "      <td>103.36</td>\n",
              "      <td>103.66</td>\n",
              "      <td>3.77</td>\n",
              "      <td>2.99</td>\n",
              "      <td>113.09</td>\n",
              "    </tr>\n",
              "    <tr>\n",
              "      <th>2</th>\n",
              "      <td>518.07</td>\n",
              "      <td>104.48</td>\n",
              "      <td>103.50</td>\n",
              "      <td>4.40</td>\n",
              "      <td>2.94</td>\n",
              "      <td>113.16</td>\n",
              "    </tr>\n",
              "    <tr>\n",
              "      <th>3</th>\n",
              "      <td>514.08</td>\n",
              "      <td>103.91</td>\n",
              "      <td>103.94</td>\n",
              "      <td>3.62</td>\n",
              "      <td>3.01</td>\n",
              "      <td>113.51</td>\n",
              "    </tr>\n",
              "    <tr>\n",
              "      <th>4</th>\n",
              "      <td>515.19</td>\n",
              "      <td>104.28</td>\n",
              "      <td>103.46</td>\n",
              "      <td>4.04</td>\n",
              "      <td>3.48</td>\n",
              "      <td>112.54</td>\n",
              "    </tr>\n",
              "    <tr>\n",
              "      <th>...</th>\n",
              "      <td>...</td>\n",
              "      <td>...</td>\n",
              "      <td>...</td>\n",
              "      <td>...</td>\n",
              "      <td>...</td>\n",
              "      <td>...</td>\n",
              "    </tr>\n",
              "    <tr>\n",
              "      <th>1495</th>\n",
              "      <td>515.25</td>\n",
              "      <td>104.38</td>\n",
              "      <td>104.17</td>\n",
              "      <td>4.42</td>\n",
              "      <td>3.09</td>\n",
              "      <td>111.28</td>\n",
              "    </tr>\n",
              "    <tr>\n",
              "      <th>1496</th>\n",
              "      <td>516.57</td>\n",
              "      <td>104.63</td>\n",
              "      <td>104.44</td>\n",
              "      <td>5.27</td>\n",
              "      <td>3.37</td>\n",
              "      <td>110.97</td>\n",
              "    </tr>\n",
              "    <tr>\n",
              "      <th>1497</th>\n",
              "      <td>515.40</td>\n",
              "      <td>104.01</td>\n",
              "      <td>104.12</td>\n",
              "      <td>5.51</td>\n",
              "      <td>3.36</td>\n",
              "      <td>111.95</td>\n",
              "    </tr>\n",
              "    <tr>\n",
              "      <th>1498</th>\n",
              "      <td>516.18</td>\n",
              "      <td>104.28</td>\n",
              "      <td>104.06</td>\n",
              "      <td>5.17</td>\n",
              "      <td>3.46</td>\n",
              "      <td>112.25</td>\n",
              "    </tr>\n",
              "    <tr>\n",
              "      <th>1499</th>\n",
              "      <td>514.41</td>\n",
              "      <td>104.15</td>\n",
              "      <td>103.82</td>\n",
              "      <td>4.63</td>\n",
              "      <td>3.37</td>\n",
              "      <td>112.07</td>\n",
              "    </tr>\n",
              "  </tbody>\n",
              "</table>\n",
              "<p>1463 rows × 6 columns</p>\n",
              "</div>"
            ],
            "text/plain": [
              "      diagonal  height_left  height_right  margin_low  margin_up  length\n",
              "0       515.43       104.86        104.95        4.52       2.89  112.83\n",
              "1       514.38       103.36        103.66        3.77       2.99  113.09\n",
              "2       518.07       104.48        103.50        4.40       2.94  113.16\n",
              "3       514.08       103.91        103.94        3.62       3.01  113.51\n",
              "4       515.19       104.28        103.46        4.04       3.48  112.54\n",
              "...        ...          ...           ...         ...        ...     ...\n",
              "1495    515.25       104.38        104.17        4.42       3.09  111.28\n",
              "1496    516.57       104.63        104.44        5.27       3.37  110.97\n",
              "1497    515.40       104.01        104.12        5.51       3.36  111.95\n",
              "1498    516.18       104.28        104.06        5.17       3.46  112.25\n",
              "1499    514.41       104.15        103.82        4.63       3.37  112.07\n",
              "\n",
              "[1463 rows x 6 columns]"
            ]
          },
          "metadata": {},
          "output_type": "display_data"
        },
        {
          "data": {
            "text/html": [
              "<div>\n",
              "<style scoped>\n",
              "    .dataframe tbody tr th:only-of-type {\n",
              "        vertical-align: middle;\n",
              "    }\n",
              "\n",
              "    .dataframe tbody tr th {\n",
              "        vertical-align: top;\n",
              "    }\n",
              "\n",
              "    .dataframe thead th {\n",
              "        text-align: right;\n",
              "    }\n",
              "</style>\n",
              "<table border=\"1\" class=\"dataframe\">\n",
              "  <thead>\n",
              "    <tr style=\"text-align: right;\">\n",
              "      <th></th>\n",
              "      <th>target</th>\n",
              "    </tr>\n",
              "  </thead>\n",
              "  <tbody>\n",
              "    <tr>\n",
              "      <th>0</th>\n",
              "      <td>1</td>\n",
              "    </tr>\n",
              "    <tr>\n",
              "      <th>1</th>\n",
              "      <td>1</td>\n",
              "    </tr>\n",
              "    <tr>\n",
              "      <th>2</th>\n",
              "      <td>1</td>\n",
              "    </tr>\n",
              "    <tr>\n",
              "      <th>3</th>\n",
              "      <td>1</td>\n",
              "    </tr>\n",
              "    <tr>\n",
              "      <th>4</th>\n",
              "      <td>1</td>\n",
              "    </tr>\n",
              "    <tr>\n",
              "      <th>...</th>\n",
              "      <td>...</td>\n",
              "    </tr>\n",
              "    <tr>\n",
              "      <th>1495</th>\n",
              "      <td>0</td>\n",
              "    </tr>\n",
              "    <tr>\n",
              "      <th>1496</th>\n",
              "      <td>0</td>\n",
              "    </tr>\n",
              "    <tr>\n",
              "      <th>1497</th>\n",
              "      <td>0</td>\n",
              "    </tr>\n",
              "    <tr>\n",
              "      <th>1498</th>\n",
              "      <td>0</td>\n",
              "    </tr>\n",
              "    <tr>\n",
              "      <th>1499</th>\n",
              "      <td>0</td>\n",
              "    </tr>\n",
              "  </tbody>\n",
              "</table>\n",
              "<p>1463 rows × 1 columns</p>\n",
              "</div>"
            ],
            "text/plain": [
              "      target\n",
              "0          1\n",
              "1          1\n",
              "2          1\n",
              "3          1\n",
              "4          1\n",
              "...      ...\n",
              "1495       0\n",
              "1496       0\n",
              "1497       0\n",
              "1498       0\n",
              "1499       0\n",
              "\n",
              "[1463 rows x 1 columns]"
            ]
          },
          "metadata": {},
          "output_type": "display_data"
        },
        {
          "name": "stdout",
          "output_type": "stream",
          "text": [
            "[[515.43 104.86 104.95   4.52   2.89 112.83]\n",
            " [514.38 103.36 103.66   3.77   2.99 113.09]\n",
            " [518.07 104.48 103.5    4.4    2.94 113.16]\n",
            " ...\n",
            " [515.4  104.01 104.12   5.51   3.36 111.95]\n",
            " [516.18 104.28 104.06   5.17   3.46 112.25]\n",
            " [514.41 104.15 103.82   4.63   3.37 112.07]], [[1]\n",
            " [1]\n",
            " [1]\n",
            " ...\n",
            " [0]\n",
            " [0]\n",
            " [0]]\n"
          ]
        }
      ],
      "source": [
        "### YOUR CODE HERE ###\n",
        "X = df.drop([\"target\", \"is_genuine\"], axis=1)\n",
        "y = pd.DataFrame(df[\"target\"])\n",
        "display(X)\n",
        "display(y)\n",
        "# convert to array to fit in the train_test_split\n",
        "X = X.to_numpy()\n",
        "y = y.to_numpy()\n",
        "print(f\"{X}, {y}\")"
      ]
    },
    {
      "cell_type": "markdown",
      "metadata": {
        "id": "mcPvsju6IsjN"
      },
      "source": [
        "## Part A3: Data Splitting **[3 Marks]**\n",
        "\n",
        "Now that we have the X and y values, we can split the dataset into training and testing.\n",
        "\n",
        "**Split the dataset** into a train and a test set **\"70:30\"**, use **``random_state=21``**. The test set is set aside (untouched) for final evaluation, once hyperparameter optimization is complete. **[3]**\n",
        "\n",
        "**Only Split the dataset once within your notebook.** You should not use the `train_test_split` function more than once, regardless of the random state. Keep this in mind for your future projects as well."
      ]
    },
    {
      "cell_type": "code",
      "execution_count": 11,
      "metadata": {
        "id": "bNYDixl1I1or"
      },
      "outputs": [],
      "source": [
        "### YOUR CODE HERE ###\n",
        "from sklearn.model_selection import train_test_split\n",
        "X_train, X_test, y_train, y_test = train_test_split(X, y, test_size=0.3, train_size=0.7, random_state=21)"
      ]
    },
    {
      "cell_type": "code",
      "execution_count": 12,
      "metadata": {},
      "outputs": [
        {
          "name": "stdout",
          "output_type": "stream",
          "text": [
            "X_train: [[516.03 104.58 103.89   3.96   2.87 113.28]\n",
            " [516.39 104.09 104.16   5.45   3.38 111.79]\n",
            " [514.95 104.   104.53   5.69   3.41 111.09]\n",
            " ...\n",
            " [516.84 103.98 103.98   4.51   2.92 113.07]\n",
            " [514.77 104.05 104.4    5.05   3.45 111.14]\n",
            " [514.32 103.96 103.92   3.68   2.89 113.21]]\n",
            "\n",
            "X_test: [[517.11 104.03 104.47   4.95   3.25 111.99]\n",
            " [517.35 103.99 104.39   3.43   2.66 112.93]\n",
            " [515.85 103.77 103.81   4.13   3.09 113.24]\n",
            " ...\n",
            " [515.19 103.82 103.85   3.97   3.12 112.85]\n",
            " [514.59 103.53 103.63   4.04   2.96 112.76]\n",
            " [515.37 103.74 103.48   4.6    2.8  113.35]]\n",
            "\n",
            "y_train: [[1]\n",
            " [0]\n",
            " [0]\n",
            " ...\n",
            " [1]\n",
            " [0]\n",
            " [1]]\n",
            "\n",
            "y_test: [[0]\n",
            " [1]\n",
            " [1]\n",
            " [0]\n",
            " [1]\n",
            " [0]\n",
            " [1]\n",
            " [0]\n",
            " [1]\n",
            " [1]\n",
            " [1]\n",
            " [1]\n",
            " [1]\n",
            " [1]\n",
            " [0]\n",
            " [1]\n",
            " [0]\n",
            " [1]\n",
            " [1]\n",
            " [1]\n",
            " [1]\n",
            " [1]\n",
            " [1]\n",
            " [1]\n",
            " [1]\n",
            " [1]\n",
            " [1]\n",
            " [1]\n",
            " [0]\n",
            " [0]\n",
            " [0]\n",
            " [1]\n",
            " [1]\n",
            " [0]\n",
            " [0]\n",
            " [0]\n",
            " [1]\n",
            " [1]\n",
            " [0]\n",
            " [1]\n",
            " [1]\n",
            " [1]\n",
            " [1]\n",
            " [1]\n",
            " [0]\n",
            " [1]\n",
            " [0]\n",
            " [1]\n",
            " [1]\n",
            " [1]\n",
            " [1]\n",
            " [1]\n",
            " [0]\n",
            " [1]\n",
            " [1]\n",
            " [1]\n",
            " [1]\n",
            " [1]\n",
            " [1]\n",
            " [1]\n",
            " [1]\n",
            " [1]\n",
            " [0]\n",
            " [0]\n",
            " [0]\n",
            " [1]\n",
            " [1]\n",
            " [0]\n",
            " [1]\n",
            " [1]\n",
            " [1]\n",
            " [1]\n",
            " [0]\n",
            " [0]\n",
            " [0]\n",
            " [0]\n",
            " [1]\n",
            " [1]\n",
            " [1]\n",
            " [1]\n",
            " [1]\n",
            " [1]\n",
            " [0]\n",
            " [1]\n",
            " [0]\n",
            " [1]\n",
            " [0]\n",
            " [0]\n",
            " [0]\n",
            " [1]\n",
            " [0]\n",
            " [1]\n",
            " [1]\n",
            " [0]\n",
            " [1]\n",
            " [1]\n",
            " [0]\n",
            " [0]\n",
            " [1]\n",
            " [1]\n",
            " [0]\n",
            " [1]\n",
            " [1]\n",
            " [1]\n",
            " [1]\n",
            " [1]\n",
            " [1]\n",
            " [0]\n",
            " [1]\n",
            " [1]\n",
            " [1]\n",
            " [0]\n",
            " [1]\n",
            " [1]\n",
            " [1]\n",
            " [1]\n",
            " [1]\n",
            " [1]\n",
            " [1]\n",
            " [1]\n",
            " [1]\n",
            " [1]\n",
            " [1]\n",
            " [1]\n",
            " [1]\n",
            " [1]\n",
            " [1]\n",
            " [1]\n",
            " [1]\n",
            " [1]\n",
            " [0]\n",
            " [1]\n",
            " [1]\n",
            " [1]\n",
            " [1]\n",
            " [1]\n",
            " [1]\n",
            " [0]\n",
            " [1]\n",
            " [0]\n",
            " [1]\n",
            " [1]\n",
            " [1]\n",
            " [1]\n",
            " [1]\n",
            " [1]\n",
            " [0]\n",
            " [0]\n",
            " [0]\n",
            " [1]\n",
            " [1]\n",
            " [0]\n",
            " [0]\n",
            " [1]\n",
            " [1]\n",
            " [1]\n",
            " [1]\n",
            " [1]\n",
            " [1]\n",
            " [1]\n",
            " [1]\n",
            " [1]\n",
            " [1]\n",
            " [0]\n",
            " [1]\n",
            " [0]\n",
            " [1]\n",
            " [0]\n",
            " [0]\n",
            " [1]\n",
            " [1]\n",
            " [1]\n",
            " [1]\n",
            " [1]\n",
            " [1]\n",
            " [1]\n",
            " [0]\n",
            " [0]\n",
            " [1]\n",
            " [0]\n",
            " [1]\n",
            " [1]\n",
            " [1]\n",
            " [0]\n",
            " [1]\n",
            " [1]\n",
            " [0]\n",
            " [0]\n",
            " [1]\n",
            " [1]\n",
            " [1]\n",
            " [1]\n",
            " [0]\n",
            " [0]\n",
            " [1]\n",
            " [1]\n",
            " [1]\n",
            " [1]\n",
            " [1]\n",
            " [1]\n",
            " [0]\n",
            " [1]\n",
            " [1]\n",
            " [0]\n",
            " [0]\n",
            " [1]\n",
            " [1]\n",
            " [0]\n",
            " [0]\n",
            " [1]\n",
            " [1]\n",
            " [0]\n",
            " [1]\n",
            " [1]\n",
            " [1]\n",
            " [1]\n",
            " [1]\n",
            " [1]\n",
            " [1]\n",
            " [1]\n",
            " [0]\n",
            " [1]\n",
            " [1]\n",
            " [1]\n",
            " [0]\n",
            " [0]\n",
            " [1]\n",
            " [0]\n",
            " [0]\n",
            " [1]\n",
            " [1]\n",
            " [0]\n",
            " [0]\n",
            " [1]\n",
            " [1]\n",
            " [0]\n",
            " [0]\n",
            " [1]\n",
            " [1]\n",
            " [1]\n",
            " [1]\n",
            " [1]\n",
            " [0]\n",
            " [0]\n",
            " [1]\n",
            " [1]\n",
            " [1]\n",
            " [1]\n",
            " [1]\n",
            " [0]\n",
            " [1]\n",
            " [0]\n",
            " [0]\n",
            " [0]\n",
            " [1]\n",
            " [1]\n",
            " [0]\n",
            " [1]\n",
            " [1]\n",
            " [1]\n",
            " [1]\n",
            " [1]\n",
            " [1]\n",
            " [0]\n",
            " [0]\n",
            " [0]\n",
            " [0]\n",
            " [1]\n",
            " [1]\n",
            " [0]\n",
            " [0]\n",
            " [1]\n",
            " [1]\n",
            " [1]\n",
            " [0]\n",
            " [1]\n",
            " [0]\n",
            " [1]\n",
            " [1]\n",
            " [1]\n",
            " [1]\n",
            " [1]\n",
            " [1]\n",
            " [0]\n",
            " [1]\n",
            " [1]\n",
            " [0]\n",
            " [1]\n",
            " [1]\n",
            " [0]\n",
            " [1]\n",
            " [0]\n",
            " [1]\n",
            " [1]\n",
            " [0]\n",
            " [0]\n",
            " [0]\n",
            " [1]\n",
            " [1]\n",
            " [0]\n",
            " [1]\n",
            " [1]\n",
            " [0]\n",
            " [1]\n",
            " [1]\n",
            " [1]\n",
            " [0]\n",
            " [1]\n",
            " [1]\n",
            " [1]\n",
            " [1]\n",
            " [0]\n",
            " [1]\n",
            " [0]\n",
            " [1]\n",
            " [0]\n",
            " [1]\n",
            " [0]\n",
            " [1]\n",
            " [0]\n",
            " [1]\n",
            " [0]\n",
            " [1]\n",
            " [1]\n",
            " [0]\n",
            " [1]\n",
            " [0]\n",
            " [0]\n",
            " [0]\n",
            " [0]\n",
            " [1]\n",
            " [1]\n",
            " [1]\n",
            " [1]\n",
            " [1]\n",
            " [0]\n",
            " [0]\n",
            " [1]\n",
            " [1]\n",
            " [1]\n",
            " [1]\n",
            " [0]\n",
            " [1]\n",
            " [1]\n",
            " [1]\n",
            " [1]\n",
            " [0]\n",
            " [1]\n",
            " [1]\n",
            " [1]\n",
            " [0]\n",
            " [1]\n",
            " [1]\n",
            " [0]\n",
            " [0]\n",
            " [1]\n",
            " [1]\n",
            " [1]\n",
            " [0]\n",
            " [0]\n",
            " [0]\n",
            " [1]\n",
            " [0]\n",
            " [1]\n",
            " [1]\n",
            " [0]\n",
            " [0]\n",
            " [0]\n",
            " [0]\n",
            " [1]\n",
            " [1]\n",
            " [0]\n",
            " [1]\n",
            " [0]\n",
            " [1]\n",
            " [1]\n",
            " [1]\n",
            " [0]\n",
            " [1]\n",
            " [1]\n",
            " [1]\n",
            " [0]\n",
            " [0]\n",
            " [0]\n",
            " [1]\n",
            " [1]\n",
            " [1]\n",
            " [1]\n",
            " [1]\n",
            " [1]\n",
            " [1]\n",
            " [1]\n",
            " [1]\n",
            " [0]\n",
            " [1]\n",
            " [0]\n",
            " [1]\n",
            " [0]\n",
            " [1]\n",
            " [1]\n",
            " [1]\n",
            " [1]\n",
            " [1]\n",
            " [0]\n",
            " [1]\n",
            " [1]\n",
            " [0]\n",
            " [1]\n",
            " [1]\n",
            " [0]\n",
            " [1]\n",
            " [1]\n",
            " [1]\n",
            " [1]\n",
            " [1]\n",
            " [1]\n",
            " [1]\n",
            " [1]\n",
            " [0]\n",
            " [1]\n",
            " [1]\n",
            " [1]\n",
            " [0]\n",
            " [0]\n",
            " [0]\n",
            " [1]\n",
            " [0]\n",
            " [1]\n",
            " [1]\n",
            " [1]\n",
            " [0]\n",
            " [1]\n",
            " [0]\n",
            " [1]\n",
            " [1]\n",
            " [1]\n",
            " [1]\n",
            " [1]\n",
            " [1]]\n",
            "X_train: 1024 X_test: 439 y_train: 1024 y_test: 439\n"
          ]
        }
      ],
      "source": [
        "# check our splitted data\n",
        "print(f\"X_train: {X_train}\\n\\nX_test: {X_test}\\n\\ny_train: {y_train}\\n\\ny_test: {y_test}\")\n",
        "print(f\"X_train: {len(X_train)} X_test: {len(X_test)} y_train: {len(y_train)} y_test: {len(y_test)}\")\n"
      ]
    },
    {
      "cell_type": "markdown",
      "metadata": {
        "id": "IT3B32NHIzIa"
      },
      "source": [
        "## Part A4: Effect of Standardization (Visual) **[4 Marks]**\n",
        "\n",
        "Use `seaborn.lmplot` ([help here](https://seaborn.pydata.org/generated/seaborn.lmplot.html)) to visualize a few features of the training set. Draw a plot where the x-axis is the `height_left`, and the y-axis is the `diagonal`, and the color of each datapoint indicates its class.  **[2]**\n",
        "\n",
        "Standardizing the data is often critical in machine learning. Show a plot as above, but standardize the two features. What's different? **why do they look similar?** Based on your observation, what is the advantage of standardization? You can visualize feature distributions before and after standardization **[2]**\n",
        "\n",
        "\n"
      ]
    },
    {
      "cell_type": "code",
      "execution_count": 13,
      "metadata": {
        "id": "DtZpNVGNI58C"
      },
      "outputs": [
        {
          "data": {
            "text/plain": [
              "<seaborn.axisgrid.FacetGrid at 0x229b18879b0>"
            ]
          },
          "execution_count": 13,
          "metadata": {},
          "output_type": "execute_result"
        },
        {
          "data": {
            "image/png": "[encoded data removed]",
            "text/plain": [
              "<Figure size 558.875x500 with 1 Axes>"
            ]
          },
          "metadata": {},
          "output_type": "display_data"
        }
      ],
      "source": [
        "### YOUR CODE HERE ###\n",
        "import seaborn\n",
        "# feature distributions before standardization\n",
        "seaborn.lmplot(df, x=\"height_left\", y=\"diagonal\", hue=\"target\")"
      ]
    },
    {
      "cell_type": "code",
      "execution_count": 14,
      "metadata": {},
      "outputs": [
        {
          "data": {
            "text/html": [
              "<div>\n",
              "<style scoped>\n",
              "    .dataframe tbody tr th:only-of-type {\n",
              "        vertical-align: middle;\n",
              "    }\n",
              "\n",
              "    .dataframe tbody tr th {\n",
              "        vertical-align: top;\n",
              "    }\n",
              "\n",
              "    .dataframe thead th {\n",
              "        text-align: right;\n",
              "    }\n",
              "</style>\n",
              "<table border=\"1\" class=\"dataframe\">\n",
              "  <thead>\n",
              "    <tr style=\"text-align: right;\">\n",
              "      <th></th>\n",
              "      <th>diagonal</th>\n",
              "      <th>height_left</th>\n",
              "      <th>height_right</th>\n",
              "      <th>margin_low</th>\n",
              "      <th>margin_up</th>\n",
              "      <th>length</th>\n",
              "    </tr>\n",
              "  </thead>\n",
              "  <tbody>\n",
              "    <tr>\n",
              "      <th>0</th>\n",
              "      <td>-0.488594</td>\n",
              "      <td>2.766807</td>\n",
              "      <td>3.173766</td>\n",
              "      <td>0.051286</td>\n",
              "      <td>-1.136982</td>\n",
              "      <td>0.177842</td>\n",
              "    </tr>\n",
              "    <tr>\n",
              "      <th>1</th>\n",
              "      <td>-1.634809</td>\n",
              "      <td>-2.241490</td>\n",
              "      <td>-0.806851</td>\n",
              "      <td>-1.078937</td>\n",
              "      <td>-0.704806</td>\n",
              "      <td>0.475692</td>\n",
              "    </tr>\n",
              "    <tr>\n",
              "      <th>2</th>\n",
              "      <td>2.393318</td>\n",
              "      <td>1.498039</td>\n",
              "      <td>-1.300571</td>\n",
              "      <td>-0.129549</td>\n",
              "      <td>-0.920894</td>\n",
              "      <td>0.555882</td>\n",
              "    </tr>\n",
              "    <tr>\n",
              "      <th>3</th>\n",
              "      <td>-1.962299</td>\n",
              "      <td>-0.405114</td>\n",
              "      <td>0.057159</td>\n",
              "      <td>-1.304982</td>\n",
              "      <td>-0.618370</td>\n",
              "      <td>0.956834</td>\n",
              "    </tr>\n",
              "    <tr>\n",
              "      <th>4</th>\n",
              "      <td>-0.750586</td>\n",
              "      <td>0.830266</td>\n",
              "      <td>-1.424001</td>\n",
              "      <td>-0.672057</td>\n",
              "      <td>1.412861</td>\n",
              "      <td>-0.154375</td>\n",
              "    </tr>\n",
              "    <tr>\n",
              "      <th>...</th>\n",
              "      <td>...</td>\n",
              "      <td>...</td>\n",
              "      <td>...</td>\n",
              "      <td>...</td>\n",
              "      <td>...</td>\n",
              "      <td>...</td>\n",
              "    </tr>\n",
              "    <tr>\n",
              "      <th>1458</th>\n",
              "      <td>-0.685088</td>\n",
              "      <td>1.164152</td>\n",
              "      <td>0.766882</td>\n",
              "      <td>-0.099410</td>\n",
              "      <td>-0.272629</td>\n",
              "      <td>-1.597801</td>\n",
              "    </tr>\n",
              "    <tr>\n",
              "      <th>1459</th>\n",
              "      <td>0.755868</td>\n",
              "      <td>1.998868</td>\n",
              "      <td>1.600034</td>\n",
              "      <td>1.181509</td>\n",
              "      <td>0.937466</td>\n",
              "      <td>-1.952929</td>\n",
              "    </tr>\n",
              "    <tr>\n",
              "      <th>1460</th>\n",
              "      <td>-0.521343</td>\n",
              "      <td>-0.071228</td>\n",
              "      <td>0.612594</td>\n",
              "      <td>1.543181</td>\n",
              "      <td>0.894249</td>\n",
              "      <td>-0.830265</td>\n",
              "    </tr>\n",
              "    <tr>\n",
              "      <th>1461</th>\n",
              "      <td>0.330131</td>\n",
              "      <td>0.830266</td>\n",
              "      <td>0.427449</td>\n",
              "      <td>1.030813</td>\n",
              "      <td>1.326425</td>\n",
              "      <td>-0.486592</td>\n",
              "    </tr>\n",
              "    <tr>\n",
              "      <th>1462</th>\n",
              "      <td>-1.602060</td>\n",
              "      <td>0.396213</td>\n",
              "      <td>-0.313131</td>\n",
              "      <td>0.217052</td>\n",
              "      <td>0.937466</td>\n",
              "      <td>-0.692796</td>\n",
              "    </tr>\n",
              "  </tbody>\n",
              "</table>\n",
              "<p>1463 rows × 6 columns</p>\n",
              "</div>"
            ],
            "text/plain": [
              "      diagonal  height_left  height_right  margin_low  margin_up    length\n",
              "0    -0.488594     2.766807      3.173766    0.051286  -1.136982  0.177842\n",
              "1    -1.634809    -2.241490     -0.806851   -1.078937  -0.704806  0.475692\n",
              "2     2.393318     1.498039     -1.300571   -0.129549  -0.920894  0.555882\n",
              "3    -1.962299    -0.405114      0.057159   -1.304982  -0.618370  0.956834\n",
              "4    -0.750586     0.830266     -1.424001   -0.672057   1.412861 -0.154375\n",
              "...        ...          ...           ...         ...        ...       ...\n",
              "1458 -0.685088     1.164152      0.766882   -0.099410  -0.272629 -1.597801\n",
              "1459  0.755868     1.998868      1.600034    1.181509   0.937466 -1.952929\n",
              "1460 -0.521343    -0.071228      0.612594    1.543181   0.894249 -0.830265\n",
              "1461  0.330131     0.830266      0.427449    1.030813   1.326425 -0.486592\n",
              "1462 -1.602060     0.396213     -0.313131    0.217052   0.937466 -0.692796\n",
              "\n",
              "[1463 rows x 6 columns]"
            ]
          },
          "execution_count": 14,
          "metadata": {},
          "output_type": "execute_result"
        }
      ],
      "source": [
        "# standardize data\n",
        "from sklearn.preprocessing import StandardScaler\n",
        "scaler = StandardScaler(copy=True, with_mean=True, with_std=True)\n",
        "scaler.fit(df.drop(columns=[\"target\", \"is_genuine\"]))\n",
        "standard_df = scaler.transform(df.drop(columns=[\"target\", \"is_genuine\"]))\n",
        "\n",
        "standard_df = pd.DataFrame(standard_df, columns=df.columns[1:-1])\n",
        "standard_df\n"
      ]
    },
    {
      "cell_type": "code",
      "execution_count": 15,
      "metadata": {},
      "outputs": [
        {
          "data": {
            "text/plain": [
              "<seaborn.axisgrid.FacetGrid at 0x229b2ffa930>"
            ]
          },
          "execution_count": 15,
          "metadata": {},
          "output_type": "execute_result"
        },
        {
          "data": {
            "image/png": "[encoded data removed]",
            "text/plain": [
              "<Figure size 572x500 with 1 Axes>"
            ]
          },
          "metadata": {},
          "output_type": "display_data"
        }
      ],
      "source": [
        "# feature distributions after standardization\n",
        "# concat back the target class for color\n",
        "target_temp = pd.DataFrame(df[\"target\"])\n",
        "\n",
        "# reset the index of df (since we drop a few rows which cause the index of df different)\n",
        "df = df.reset_index(drop=True)\n",
        "\n",
        "# join the 2 df for plotting only\n",
        "standard_df = standard_df.join(target_temp)\n",
        "seaborn.lmplot(standard_df, x=\"height_left\", y=\"diagonal\", hue=\"target\")"
      ]
    },
    {
      "cell_type": "markdown",
      "metadata": {},
      "source": [
        "- The difference is that that second plot was standardized by mean=0 and std=1, so its x and y value becomes in range of [-3, 3].\n",
        "- The reason why that the 2 plots look the similar is that according to the dataset source website, both the height_left and diagonal data were measure in same scale -- mm. Besides, the magnitude of height_left and diagonal (100ish vs 515ish) is not a big difference, and their standard deviation, according to the plot is also not very large in range. Hence, there is no a very large scale or large range in one of the axis that minizes the affect of other axis.\n",
        "- The advantage of standardization is that it allows the algorithms to not prioritize the feature with the larger range, balancing the influence of the smaller feature and larger feature, so they weight euqally."
      ]
    },
    {
      "cell_type": "markdown",
      "metadata": {
        "id": "_wadU-OBJC2X"
      },
      "source": [
        "# Part B: KNN **[32 Marks Total]**"
      ]
    },
    {
      "cell_type": "markdown",
      "metadata": {
        "id": "nSEFM470JGBR"
      },
      "source": [
        "## Part B1: KNN Model with Standardization **[12 Marks]**\n",
        "\n",
        "Let's create a KNN Model to predict whether a bill is fake by its dimensions!\n",
        "\n",
        "\n",
        "Follow these steps:\n",
        "\n",
        "1. Standardize the training  and test data ([Help](https://scikit-learn.org/stable/modules/preprocessing.html)) **[2]**\n",
        "\n",
        "2. Train a KNN Model using 5-fold cross-validation on the dataset. Sweep `k` (number of neighbors) from 1 to 100, and show a plot of the mean cross-validation accuracy vs `k`. **[4]**\n",
        "3.   What is the best `k`? What is the highest cross-validation accuracy? **[4]**\n",
        "4. Comment on  which ranges of `k` lead to underfitted or overfitted models (hint: compare training and validation curves.). **[2]**\n",
        "\n",
        "\n",
        "\n",
        "**Note:** When we standardize a dataset, it matters if the data points are in our training set or test set. The training set is available for us to train a model - we can use it however we want. The test set, however, represents a subset of data that is not available for us during training. For example, the test set can represent the data that someone who bought our model would use to see how the model performs (which they are not willing to share with us).\n",
        "Therefore, we cannot use the mean or standard deviation of the whole dataset to standardize it - we can only use the mean and standard deviation of the training set. When the model is ready for testing, we provide our scalers (mean and standard deviation of our training set) to the person who is going to test the model. They can scale their data (test set) with our training set's mean and standard deviation. It is unlikely that the scaled test set would exactly have a mean of zero and a standard deviation of one, but there is no such requirement for the model to perform well.\n",
        "\n",
        "**To summarize: We fit the StandardScaler only on the training set. We transform both training and test sets with that scaler.**"
      ]
    },
    {
      "cell_type": "code",
      "execution_count": 16,
      "metadata": {},
      "outputs": [],
      "source": [
        "### YOUR CODE HERE ###\n",
        "# convert y to 1D arrary, after getting the output warning of DataConversionWarning: A column-vector y was \n",
        "    # passed when a 1d array was expected. Please change the shape of y to (n_samples,), for example using ravel().\n",
        "    # return self._fit(X, y)\n",
        "y_train = y_train.ravel()"
      ]
    },
    {
      "cell_type": "code",
      "execution_count": 17,
      "metadata": {},
      "outputs": [],
      "source": [
        "# 5 fold cross validation\n",
        "from sklearn.model_selection import \\\n",
        "     (cross_validate,\n",
        "      KFold,\n",
        "      ShuffleSplit)\n",
        "from sklearn.neighbors import KNeighborsClassifier\n",
        "from sklearn.pipeline import Pipeline\n",
        "\n",
        "# k from 1 to 100\n",
        "k_values = range(1, 101) \n",
        "val_cv_acc = []\n",
        "train_cv_acc = []\n",
        "\n",
        "for k in k_values:\n",
        "      # the source that help provides mentioned about pipeline\n",
        "      # \"implements the Transformer API to compute the mean and standard deviation on a training set so as \n",
        "      # to be able to later re-apply the same transformation on the testing set.\"\n",
        "      pipeline = Pipeline([\n",
        "            (\"scaler\", StandardScaler()),\n",
        "            (\"knn\", KNeighborsClassifier(n_neighbors=k))\n",
        "      ])\n",
        "      \n",
        "      # knn = KNeighborsClassifier(n_neighbors=k)\n",
        "\n",
        "      # 5 flod cross-validation\n",
        "      cv = KFold(n_splits=5,\n",
        "            shuffle=True,\n",
        "            random_state=0, )\n",
        "      cv_results = cross_validate(pipeline,\n",
        "                              X_train,\n",
        "                              y_train,\n",
        "                              cv=cv,\n",
        "                              return_train_score=True)\n",
        "\n",
        "      # cal the accurarcy\n",
        "      train_score = np.mean(cv_results['train_score'])\n",
        "      val_score = np.mean(cv_results['test_score'])\n",
        "      \n",
        "      train_cv_acc.append(train_score)\n",
        "      val_cv_acc.append(val_score)"
      ]
    },
    {
      "cell_type": "code",
      "execution_count": 18,
      "metadata": {},
      "outputs": [
        {
          "data": {
            "image/png": "[encoded data removed]",
            "text/plain": [
              "<Figure size 640x480 with 1 Axes>"
            ]
          },
          "metadata": {},
          "output_type": "display_data"
        }
      ],
      "source": [
        "# plot\n",
        "plt.plot(k_values, train_cv_acc, label=\"train\")\n",
        "plt.plot(k_values, val_cv_acc, label=\"val\")\n",
        "plt.xlabel(\"k (number of neighbors from 1 to 100)\")\n",
        "plt.xticks(np.arange(0, 101, 5))  # show every 5th k-value\n",
        "plt.ylabel(\"mean cross-validation accurarcy\")\n",
        "plt.title(\"Graph of Mean Cross-Validation Accuracy vs k (5 Fold CV)\")\n",
        "plt.legend()\n",
        "plt.show()"
      ]
    },
    {
      "cell_type": "code",
      "execution_count": 19,
      "metadata": {},
      "outputs": [
        {
          "name": "stdout",
          "output_type": "stream",
          "text": [
            "The best k is: 8\n",
            "The highest cv acc is: 0.9902391200382592\n"
          ]
        }
      ],
      "source": [
        "# get the best k and highest val acc\n",
        "best_k = k_values[np.argmax(val_cv_acc)]\n",
        "highest_val_acc = np.max(val_cv_acc)\n",
        "\n",
        "print(f\"The best k is: {best_k}\")\n",
        "print(f\"The highest cv acc is: {highest_val_acc}\")"
      ]
    },
    {
      "cell_type": "markdown",
      "metadata": {},
      "source": [
        "3. Best k is k=8 and k=10, where the validation accuracy reached the highest. The highest CV accuracy is around 0.9902.\n",
        "4. k = 0 to 22 lead to underfit and k = 50 to 100 lead to overfit."
      ]
    },
    {
      "cell_type": "markdown",
      "metadata": {
        "id": "IonPFnvkJJWb"
      },
      "source": [
        "## Part B2: Feature Selection **[20 Marks Total]**\n",
        "In this part, we aim to investigate the importance of each feature on the final classification accuracy.\n",
        "If we want to try every possible combination of features, we would have to test  $2^F$ different cases,  where F is the number of features, and in each case, we have to do a hyperparameter search (finding K, in KNN using cross-validation). That will take days!.\n",
        "\n",
        "To find more important features we will use a decision tree. based on a decision tree we can compute feature importance that is a metric for our feature selection (code is provided below).\n",
        "\n",
        "You can use [this link](https://machinelearningmastery.com/calculate-feature-importance-with-python/\n",
        ") to get familiar with extracting the feature importance order of machine learning algorithms in Python.\n",
        "\n",
        "After we identified and removed the least important feature and evaluated a new KNN model on the new set of features, if the stop conditions (see Step 7 in Part B3.1 below) are not met, we need to repeat the process and remove another feature.\n",
        "\n",
        "\n",
        "  \n",
        "  \n",
        "\n",
        "\n",
        "\n",
        "\n",
        "\n",
        "\n",
        "\n"
      ]
    },
    {
      "cell_type": "markdown",
      "metadata": {
        "id": "JfXunhdZKVOb"
      },
      "source": [
        "You can use the following piece of code to start training a decision tree classifier and obtain its feature importance order.\n",
        "```\n",
        "from sklearn import tree\n",
        "dt = tree.DecisionTreeClassifier()\n",
        "dt.fit(X_train,y_train)\n",
        "importance = dt.feature_importances_\n",
        "```\n"
      ]
    },
    {
      "cell_type": "code",
      "execution_count": null,
      "metadata": {
        "id": "Og0WQc53Kocg"
      },
      "outputs": [],
      "source": [
        "### YOUR CODE HERE ###\n",
        "# the coding for Part B2 is in B3.1 below"
      ]
    },
    {
      "cell_type": "markdown",
      "metadata": {
        "id": "L1CA7vDkKdQz"
      },
      "source": [
        "\n",
        "## Part B3.1 Create the Feature_selector function\n",
        "\n",
        "Design a function ( `Feature_selector`) that accepts your dataset (X_train , y_train) and a threshold as inputs and:\n",
        "1. Fits a decision tree classifier on the training set.\n",
        "\n",
        "2. Extracts the feature importance order of the decision tree model.\n",
        "\n",
        "3. Removes the least important feature based on step 2.\n",
        "4. Then, a KNN model is trained on the remaining features. The number of neighbors (`k`) for each KNN model should be tuned using a 5-fold cross-validation.\n",
        "5. Store the best `mean cross-validation` score and the corresponding `k` (number of neighbors) value in two lists.\n",
        "6. Go back to step 3 and follow all the steps until you meet the stop condition (step 7).\n",
        "\n",
        "7. We will stop this process when (1) there is only one feature left, or (2) our cross-validation accuracy is dropped significantly compared to a model that uses all the features. In this function, we accept a threshold as an input argument. For example, if threshold=0.95 we do not continue removing features if our mean cross-validation accuracy after tuning `k` is below **0.95 $\\times$ Full Feature cross-validation accuracy**.\n",
        "\n",
        "8. Your function returns the list of removed features, and the corresponding mean cross-validation accuracy and `k` value when a feature was removed.\n"
      ]
    },
    {
      "cell_type": "code",
      "execution_count": 20,
      "metadata": {
        "id": "vXJIJcM9Kp2p"
      },
      "outputs": [],
      "source": [
        "### YOUR CODE HERE ###\n",
        "from sklearn import tree\n",
        "def feature_selector(X_train, y_train, k_ub, threshold=0.95):\n",
        "        stop = False\n",
        "        # Initialize the list of current feature indices\n",
        "        current_features = list(range(X_train.shape[1]))\n",
        "        removed_features = []\n",
        "\n",
        "        # list containing best cv scores and corresponding k value\n",
        "        # found out that originally the stored val acc and k value is correspond to the previous n-1 features\n",
        "        # not the score after remove the nth feature\n",
        "        cv_scores = []\n",
        "        best_k_values = []\n",
        "        # may remove !!\n",
        "        \n",
        "        while(not stop):\n",
        "                # for features\n",
        "                features = []\n",
        "                # current feature \n",
        "                X_train_current = X_train[:, current_features]\n",
        "                \n",
        "                # decision tree\n",
        "                dt = tree.DecisionTreeClassifier()\n",
        "                dt.fit(X_train_current, y_train)\n",
        "                importance = dt.feature_importances_\n",
        "                \n",
        "                # (original idx of the current feature, corresponding score)\n",
        "                for idx, score in zip(current_features, importance):\n",
        "                        print(f'Feature: {idx}, Score: {score:.5f}')\n",
        "                        features.append((idx, score))\n",
        "                        \n",
        "                        \n",
        "                # then train the knn\n",
        "                k_values = range(1, k_ub)\n",
        "                val_cv_acc = []\n",
        "                \n",
        "                # for hyperparameter tuning, we just loop oever 1 to k_ub to find the best among 1 to k_ub and select the k \n",
        "                # inside with the best val acc\n",
        "                for k in k_values:\n",
        "                        knn = KNeighborsClassifier(n_neighbors=k)\n",
        "\n",
        "                        # 5 flod cross-validation\n",
        "                        cv = KFold(n_splits=5,\n",
        "                                shuffle=True,\n",
        "                                random_state=0)\n",
        "                        cv_results = cross_validate(knn,\n",
        "                                                X_train_current,\n",
        "                                                y_train,\n",
        "                                                cv=cv)\n",
        "\n",
        "                        val_score = np.mean(cv_results['test_score'])\n",
        "                        val_cv_acc.append(val_score)\n",
        "                        \n",
        "                # find the best k value      \n",
        "                best_k = k_values[np.argmax(val_cv_acc)]\n",
        "                highest_val_acc = np.max(val_cv_acc)\n",
        "                \n",
        "                # store the val acc and best k\n",
        "                cv_scores.append(highest_val_acc)\n",
        "                best_k_values.append(best_k)\n",
        "                \n",
        "                # print out the best k and its val acc for hyperparameter tunning\n",
        "                print(f\"The best k for k in range 1 to {k_ub-1} is: {best_k}, with val acc: {highest_val_acc}\")\n",
        "                \n",
        "                # if val acc lower than 95% of the val acc using whole feature, stop\n",
        "                if val_score < threshold * highest_val_acc or len(current_features) == 1:\n",
        "                        stop = True \n",
        "                        break\n",
        "        \n",
        "                # remove\n",
        "                if len(features) > 1:\n",
        "                        # debug\n",
        "                        print(f\"num features: {len(features)}\")\n",
        "                        \n",
        "                        \n",
        "                        # find the least important feature\n",
        "                        min_feature = min(features, key=lambda x: x[1])\n",
        "                        print(f'Reomoving feature: {min_feature[0]}, with importance score: {min_feature[1]:.5f}')\n",
        "                        current_features.remove(min_feature[0])\n",
        "                        removed_features.append(min_feature[0])\n",
        "                                \n",
        "                else:\n",
        "                        stop = True \n",
        "                        break\n",
        "                \n",
        "        # the first index is the val acc and k for including all features\n",
        "        rem_fea_val_acc_best_k = []\n",
        "        rem_fea_val_acc_best_k.append([None, cv_scores[0], best_k_values[0]])\n",
        "        \n",
        "        # then append the following\n",
        "        for i in range (1, 6):\n",
        "                rem_fea_val_acc_best_k.append([removed_features[i-1], cv_scores[i], best_k_values[i]])\n",
        "        # return the list_removed_features, coresponding val acc, and k \n",
        "        return rem_fea_val_acc_best_k"
      ]
    },
    {
      "cell_type": "code",
      "execution_count": 21,
      "metadata": {},
      "outputs": [
        {
          "name": "stdout",
          "output_type": "stream",
          "text": [
            "Feature: 0, Score: 0.00000\n",
            "Feature: 1, Score: 0.00086\n",
            "Feature: 2, Score: 0.01421\n",
            "Feature: 3, Score: 0.11730\n",
            "Feature: 4, Score: 0.02893\n",
            "Feature: 5, Score: 0.83870\n",
            "The best k for k in range 1 to 50 is: 5, with val acc: 0.9882831181252989\n",
            "num features: 6\n",
            "Reomoving feature: 0, with importance score: 0.00000\n",
            "Feature: 1, Score: 0.00086\n",
            "Feature: 2, Score: 0.01865\n",
            "Feature: 3, Score: 0.10996\n",
            "Feature: 4, Score: 0.03183\n",
            "Feature: 5, Score: 0.83870\n",
            "The best k for k in range 1 to 50 is: 3, with val acc: 0.990234337637494\n",
            "num features: 5\n",
            "Reomoving feature: 1, with importance score: 0.00086\n",
            "Feature: 2, Score: 0.01984\n",
            "Feature: 3, Score: 0.11368\n",
            "Feature: 4, Score: 0.03158\n",
            "Feature: 5, Score: 0.83490\n",
            "The best k for k in range 1 to 50 is: 3, with val acc: 0.990234337637494\n",
            "num features: 4\n",
            "Reomoving feature: 2, with importance score: 0.01984\n",
            "Feature: 3, Score: 0.12542\n",
            "Feature: 4, Score: 0.03152\n",
            "Feature: 5, Score: 0.84306\n",
            "The best k for k in range 1 to 50 is: 3, with val acc: 0.9912099473935916\n",
            "num features: 3\n",
            "Reomoving feature: 4, with importance score: 0.03152\n",
            "Feature: 3, Score: 0.13057\n",
            "Feature: 5, Score: 0.86943\n",
            "The best k for k in range 1 to 50 is: 5, with val acc: 0.9853562888570062\n",
            "num features: 2\n",
            "Reomoving feature: 3, with importance score: 0.13057\n",
            "Feature: 5, Score: 1.00000\n",
            "The best k for k in range 1 to 50 is: 25, with val acc: 0.9570349115255858\n"
          ]
        },
        {
          "data": {
            "text/plain": [
              "[[None, 0.9882831181252989, 5],\n",
              " [0, 0.990234337637494, 3],\n",
              " [1, 0.990234337637494, 3],\n",
              " [2, 0.9912099473935916, 3],\n",
              " [4, 0.9853562888570062, 5],\n",
              " [3, 0.9570349115255858, 25]]"
            ]
          },
          "execution_count": 21,
          "metadata": {},
          "output_type": "execute_result"
        }
      ],
      "source": [
        "# hyperparameter:\n",
        "# k_ub = 51, threshold = 0.95\n",
        "rem_fea_val_acc_best_k_0 = feature_selector(X_train, y_train, k_ub=51, threshold=0.95)\n",
        "rem_fea_val_acc_best_k_0"
      ]
    },
    {
      "cell_type": "code",
      "execution_count": 22,
      "metadata": {},
      "outputs": [
        {
          "name": "stdout",
          "output_type": "stream",
          "text": [
            "Feature: 0, Score: 0.00835\n",
            "Feature: 1, Score: 0.00086\n",
            "Feature: 2, Score: 0.00785\n",
            "Feature: 3, Score: 0.11531\n",
            "Feature: 4, Score: 0.02893\n",
            "Feature: 5, Score: 0.83870\n",
            "The best k for k in range 1 to 50 is: 5, with val acc: 0.9882831181252989\n",
            "num features: 6\n",
            "Reomoving feature: 1, with importance score: 0.00086\n",
            "Feature: 0, Score: 0.00155\n",
            "Feature: 2, Score: 0.01984\n",
            "Feature: 3, Score: 0.11849\n",
            "Feature: 4, Score: 0.02522\n",
            "Feature: 5, Score: 0.83490\n",
            "The best k for k in range 1 to 50 is: 3, with val acc: 0.9882831181252989\n",
            "num features: 5\n",
            "Reomoving feature: 0, with importance score: 0.00155\n",
            "Feature: 2, Score: 0.01984\n",
            "Feature: 3, Score: 0.11632\n",
            "Feature: 4, Score: 0.02522\n",
            "Feature: 5, Score: 0.83862\n",
            "The best k for k in range 1 to 50 is: 3, with val acc: 0.990234337637494\n",
            "num features: 4\n",
            "Reomoving feature: 2, with importance score: 0.01984\n",
            "Feature: 3, Score: 0.12889\n",
            "Feature: 4, Score: 0.02805\n",
            "Feature: 5, Score: 0.84306\n",
            "The best k for k in range 1 to 50 is: 3, with val acc: 0.9912099473935916\n",
            "num features: 3\n",
            "Reomoving feature: 4, with importance score: 0.02805\n",
            "Feature: 3, Score: 0.13250\n",
            "Feature: 5, Score: 0.86750\n",
            "The best k for k in range 1 to 50 is: 5, with val acc: 0.9853562888570062\n",
            "num features: 2\n",
            "Reomoving feature: 3, with importance score: 0.13250\n",
            "Feature: 5, Score: 1.00000\n",
            "The best k for k in range 1 to 50 is: 25, with val acc: 0.9570349115255858\n"
          ]
        },
        {
          "data": {
            "text/plain": [
              "[[None, 0.9882831181252989, 5],\n",
              " [1, 0.9882831181252989, 3],\n",
              " [0, 0.990234337637494, 3],\n",
              " [2, 0.9912099473935916, 3],\n",
              " [4, 0.9853562888570062, 5],\n",
              " [3, 0.9570349115255858, 25]]"
            ]
          },
          "execution_count": 22,
          "metadata": {},
          "output_type": "execute_result"
        }
      ],
      "source": [
        "# hyperparameter: \n",
        "# k_ub = 51, threshold = 0.98\n",
        "rem_fea_val_acc_best_k_1 = feature_selector(X_train, y_train, k_ub=51, threshold=0.98)\n",
        "rem_fea_val_acc_best_k_1"
      ]
    },
    {
      "cell_type": "code",
      "execution_count": 23,
      "metadata": {},
      "outputs": [
        {
          "name": "stdout",
          "output_type": "stream",
          "text": [
            "Feature: 0, Score: 0.01124\n",
            "Feature: 1, Score: 0.00375\n",
            "Feature: 2, Score: 0.01132\n",
            "Feature: 3, Score: 0.10606\n",
            "Feature: 4, Score: 0.02893\n",
            "Feature: 5, Score: 0.83870\n",
            "The best k for k in range 1 to 100 is: 5, with val acc: 0.9882831181252989\n",
            "num features: 6\n",
            "Reomoving feature: 1, with importance score: 0.00375\n",
            "Feature: 0, Score: 0.00289\n",
            "Feature: 2, Score: 0.01540\n",
            "Feature: 3, Score: 0.11788\n",
            "Feature: 4, Score: 0.02893\n",
            "Feature: 5, Score: 0.83490\n",
            "The best k for k in range 1 to 100 is: 3, with val acc: 0.9882831181252989\n",
            "num features: 5\n",
            "Reomoving feature: 0, with importance score: 0.00289\n",
            "Feature: 2, Score: 0.01540\n",
            "Feature: 3, Score: 0.12077\n",
            "Feature: 4, Score: 0.02893\n",
            "Feature: 5, Score: 0.83490\n",
            "The best k for k in range 1 to 100 is: 3, with val acc: 0.990234337637494\n",
            "num features: 4\n",
            "Reomoving feature: 2, with importance score: 0.01540\n",
            "Feature: 3, Score: 0.12542\n",
            "Feature: 4, Score: 0.03152\n",
            "Feature: 5, Score: 0.84306\n",
            "The best k for k in range 1 to 100 is: 3, with val acc: 0.9912099473935916\n",
            "num features: 3\n",
            "Reomoving feature: 4, with importance score: 0.03152\n",
            "Feature: 3, Score: 0.13211\n",
            "Feature: 5, Score: 0.86789\n",
            "The best k for k in range 1 to 100 is: 5, with val acc: 0.9853562888570062\n",
            "num features: 2\n",
            "Reomoving feature: 3, with importance score: 0.13211\n",
            "Feature: 5, Score: 1.00000\n",
            "The best k for k in range 1 to 100 is: 25, with val acc: 0.9570349115255858\n"
          ]
        },
        {
          "data": {
            "text/plain": [
              "[[None, 0.9882831181252989, 5],\n",
              " [1, 0.9882831181252989, 3],\n",
              " [0, 0.990234337637494, 3],\n",
              " [2, 0.9912099473935916, 3],\n",
              " [4, 0.9853562888570062, 5],\n",
              " [3, 0.9570349115255858, 25]]"
            ]
          },
          "execution_count": 23,
          "metadata": {},
          "output_type": "execute_result"
        }
      ],
      "source": [
        "# hyperparameter: \n",
        "# k_ub = 101, threshold = 0.95\n",
        "rem_fea_val_acc_best_k_2 = feature_selector(X_train, y_train, k_ub=101)\n",
        "rem_fea_val_acc_best_k_2"
      ]
    },
    {
      "cell_type": "markdown",
      "metadata": {
        "id": "tRGkwsvrKqqK"
      },
      "source": [
        "\n",
        "## Part B3.2 Implement the Feature_selector function **[20 Marks]**\n",
        "\n",
        "\n",
        "Call your Feature_selector function on the standardized training data with a threshold of 95%.\n",
        "\n",
        "\n",
        "* Visualize your results by plotting the mean cross-validation accuracy (y axis) vs. the number of features (x axis). This plot describes: what is the best cv score with 1 feature, 2 features, 3 features ... and all the features. **[5]**\n",
        "\n",
        "* Plot the best value of `k` (y-axis) vs. the number of features. This plot explains the trend of number of neighbors with respect to the number of features.  **[5]**\n",
        "\n",
        "* State what is the number of essential features for classification, and justify your answer.  **[5]**\n",
        "\n",
        "* State and record the best accuracy  **[5]**"
      ]
    },
    {
      "cell_type": "code",
      "execution_count": 24,
      "metadata": {
        "id": "XwXnAglmKuaZ"
      },
      "outputs": [
        {
          "data": {
            "text/plain": [
              "[[None, 0.9882831181252989, 5],\n",
              " [0, 0.990234337637494, 3],\n",
              " [1, 0.990234337637494, 3],\n",
              " [2, 0.9912099473935916, 3],\n",
              " [4, 0.9853562888570062, 5],\n",
              " [3, 0.9570349115255858, 25]]"
            ]
          },
          "execution_count": 24,
          "metadata": {},
          "output_type": "execute_result"
        }
      ],
      "source": [
        "### YOUR CODE HERE ###\n",
        "# I will use the rem_fea_val_acc_best_k_0 for plotting the 1st graph\n",
        "rem_fea_val_acc_best_k_0"
      ]
    },
    {
      "cell_type": "code",
      "execution_count": 25,
      "metadata": {},
      "outputs": [
        {
          "name": "stdout",
          "output_type": "stream",
          "text": [
            "[0.9570349115255858, 0.9853562888570062, 0.9912099473935916, 0.990234337637494, 0.990234337637494, 0.9882831181252989]\n",
            "[1, 2, 3, 4, 5, 6]\n"
          ]
        }
      ],
      "source": [
        "# reverse the val_acc order\n",
        "val_acc = [acc[1] for acc in rem_fea_val_acc_best_k_0[::-1]]\n",
        "print(val_acc)\n",
        "\n",
        "# num of features\n",
        "num_features = [i for i in range(1, 7)]\n",
        "print(num_features)"
      ]
    },
    {
      "cell_type": "code",
      "execution_count": 26,
      "metadata": {},
      "outputs": [
        {
          "data": {
            "text/plain": [
              "Text(0.5, 1.0, 'Mean CV Accurarcy vs. Number of Feature')"
            ]
          },
          "execution_count": 26,
          "metadata": {},
          "output_type": "execute_result"
        },
        {
          "data": {
            "image/png": "[encoded data removed]",
            "text/plain": [
              "<Figure size 640x480 with 1 Axes>"
            ]
          },
          "metadata": {},
          "output_type": "display_data"
        }
      ],
      "source": [
        "# plotting\n",
        "plt.plot(num_features, val_acc, marker=\"o\")\n",
        "plt.xlabel(\"Number of Features\")\n",
        "plt.ylabel(\"Mean CV Accurarcy\")\n",
        "plt.title(\"Mean CV Accurarcy vs. Number of Feature\")"
      ]
    },
    {
      "cell_type": "code",
      "execution_count": 27,
      "metadata": {},
      "outputs": [
        {
          "data": {
            "text/plain": [
              "[25, 5, 3, 3, 3, 5]"
            ]
          },
          "execution_count": 27,
          "metadata": {},
          "output_type": "execute_result"
        }
      ],
      "source": [
        "# reverse the best k vals\n",
        "rev_best_k_val = [k[2] for k in rem_fea_val_acc_best_k_0[::-1]]\n",
        "rev_best_k_val"
      ]
    },
    {
      "cell_type": "code",
      "execution_count": 28,
      "metadata": {},
      "outputs": [
        {
          "data": {
            "text/plain": [
              "Text(0.5, 1.0, 'Best K Values vs. Number of Feature')"
            ]
          },
          "execution_count": 28,
          "metadata": {},
          "output_type": "execute_result"
        },
        {
          "data": {
            "image/png": "[encoded data removed]",
            "text/plain": [
              "<Figure size 640x480 with 1 Axes>"
            ]
          },
          "metadata": {},
          "output_type": "display_data"
        }
      ],
      "source": [
        "# plotting\n",
        "plt.plot(num_features, rev_best_k_val, marker=\"o\")\n",
        "plt.xlabel(\"Number of Features\")\n",
        "plt.ylabel(\"Best K Values\")\n",
        "plt.title(\"Best K Values vs. Number of Feature\")"
      ]
    },
    {
      "cell_type": "markdown",
      "metadata": {},
      "source": [
        "- The number of essential features for classifications is 3 features. According to the graph mean accurarcy vs. number of features, the accurarcy reaches the maximum when number of features = 3, and remains high after we add in more features(4, 5, 6), and the best k values vs. number of features graph also proved this, as we can see the best k values droped to the lowest at 3 features, and remains very low after 3. "
      ]
    },
    {
      "cell_type": "code",
      "execution_count": 29,
      "metadata": {},
      "outputs": [
        {
          "data": {
            "text/plain": [
              "0.9912099473935916"
            ]
          },
          "execution_count": 29,
          "metadata": {},
          "output_type": "execute_result"
        }
      ],
      "source": [
        "val_acc[2]"
      ]
    },
    {
      "cell_type": "markdown",
      "metadata": {},
      "source": [
        "- The best accurarcy is about 0.9912, when number of features = 3."
      ]
    },
    {
      "cell_type": "markdown",
      "metadata": {
        "id": "sksG97ynK3SH"
      },
      "source": [
        "# Part C: Other Built-in Models & Hyperparameter Tuning **[30 Marks Total]**"
      ]
    },
    {
      "cell_type": "markdown",
      "metadata": {
        "id": "OPxr1hjkKzWx"
      },
      "source": [
        "In this part, you will use some built-in models, and **tune their hyperparameters** to achieve high accuracy/scores.\n",
        "\n",
        "Here we want you to **pass in the full feature**, so no need to use the Feature_selector function anymore.\n",
        "\n",
        "The models you will be using are:\n",
        "\n",
        "1. Decision Tree (Part C1.1)\n",
        "2. Random Forest (Part C1.2)\n",
        "3. Bagged Trees (Part C1.3)\n",
        "4. Gradient Boosted Trees (Part C1.4)\n",
        "5. SVM with Polynomial Kernel (Part C2.1)\n",
        "6. SVM with RBF Kernel (Part C2.2)\n",
        "\n"
      ]
    },
    {
      "cell_type": "markdown",
      "metadata": {
        "id": "PJSoq1AXLOfO"
      },
      "source": [
        "## Pact C-1: Tree-based Models **[20 Marks Total]**"
      ]
    },
    {
      "cell_type": "markdown",
      "metadata": {
        "id": "lBL3ufNILQAQ"
      },
      "source": [
        "## Part C1.1: Decision Tree Classifier **[5 Marks]**\n",
        "\n",
        "Train a decision tree classifier on the standardized dataset (read the [documentation](https://scikit-learn.org/stable/modules/generated/sklearn.tree.DecisionTreeClassifier.html) and check the example there.) Tune the hyperparameters `max_depth` and `min_samples_split` using [RandomizedSearchCV ](https://scikit-learn.org/stable/modules/generated/sklearn.model_selection.RandomizedSearchCV.html) with n_iter=500, you should set the ranges of the hyperparameters as the following:\n",
        "\n",
        "* `'max_depth': randint(1, 10)`\n",
        "* `'min_samples_split': randint(2, 50)`\n",
        "\n",
        "\n",
        "For RandomizedSearchCV, use:\n",
        "\n",
        "* `cv=5`,\n",
        "* `verbose=2`,\n",
        "* `random_state=42`,\n",
        "* `n_jobs=-1`,\n",
        "* `return_train_score=True`\n",
        "\n",
        "Record & print out:\n",
        "\n",
        "* the highest  mean cross-validated accuracy/score, and\n",
        "* the value of the hyperparameter you tuned, that achieved the highest accuracy/score.\n",
        "* i.e: *Best performance using decision tree is 0.987654321 with a max depth of 8 and a min samples split of 25*\n"
      ]
    },
    {
      "cell_type": "code",
      "execution_count": 31,
      "metadata": {
        "id": "yBYR174rLPK3"
      },
      "outputs": [],
      "source": [
        "### YOUR CODE HERE ###\n",
        "from sklearn.model_selection import RandomizedSearchCV\n",
        "from scipy.stats import randint\n",
        "\n",
        "def decision_tree_classifier():\n",
        "    pipeline = Pipeline([\n",
        "            ('scaler', StandardScaler()),\n",
        "            ('dt', tree.DecisionTreeClassifier(random_state=42))\n",
        "        ])\n",
        "\n",
        "    # Define the hyperparameter distribution\n",
        "    param_distributions = {\n",
        "        # must use dt__, otherwise nvalid parameter 'max_depth' for estimator Pipeline(steps=[('scaler', StandardScaler()),\n",
        "        # ('dt', DecisionTreeClassifier(random_state=42))]). Valid parameters are: ['memory', 'steps', 'verbose'].\n",
        "        'dt__max_depth': randint(1, 10),  \n",
        "        'dt__min_samples_split': randint(2, 50)  \n",
        "    }\n",
        "    \n",
        "    random_search = RandomizedSearchCV(\n",
        "        estimator=pipeline,\n",
        "        param_distributions=param_distributions,\n",
        "        cv=5, \n",
        "        verbose=2, \n",
        "        random_state=42, \n",
        "        n_jobs=-1, \n",
        "        return_train_score=True, \n",
        "        n_iter=500,\n",
        "        scoring='accuracy'\n",
        "        )\n",
        "\n",
        "    random_search.fit(X_train, y_train)\n",
        "\n",
        "    # find the highest man cv acc and best hyperparameters\n",
        "    best_score = random_search.best_score_\n",
        "    best_params = random_search.best_params_\n",
        "    \n",
        "    best_max_depth = best_params[\"dt__max_depth\"]\n",
        "    best_min_samples_split = best_params[\"dt__min_samples_split\"]\n",
        "    \n",
        "    print(f\"Best performance using decision tree is {best_score} with a max depth of {best_max_depth} and a min samples split of {best_min_samples_split}!\")\n",
        "    return f\"Best performance using decision tree is {best_score} with a max depth of {best_max_depth} and a min samples split of {best_min_samples_split}!\"\n",
        "                "
      ]
    },
    {
      "cell_type": "code",
      "execution_count": 32,
      "metadata": {},
      "outputs": [
        {
          "name": "stdout",
          "output_type": "stream",
          "text": [
            "Fitting 5 folds for each of 500 candidates, totalling 2500 fits\n",
            "Best performance using decision tree is 0.9824390243902439 with a max depth of 5 and a min samples split of 3!\n"
          ]
        }
      ],
      "source": [
        "dt_result = decision_tree_classifier()"
      ]
    },
    {
      "cell_type": "markdown",
      "metadata": {
        "id": "bbVxKlX4LXLz"
      },
      "source": [
        "## Part C1.2: Random Forests **[5 Marks]**\n",
        "\n",
        "Train a Random Forest classifier on the standardized full feature dataset (read the [documentation](https://scikit-learn.org/stable/modules/generated/sklearn.ensemble.RandomForestClassifier.html) and check the example there.) Tune the `n_estimators` and `max_features` parameters of the classifier using [RandomizedSearchCV ](https://scikit-learn.org/stable/modules/generated/sklearn.model_selection.RandomizedSearchCV.html) with n_iter=500, you should set the ranges of the hyperparameters you want to tune, set:\n",
        "\n",
        "* `max_features : ['sqrt', 'log2', 0.1, 0.25, 0.5]`,\n",
        "* `n_estimators : randint(10, 200)`\n",
        "\n",
        "\n",
        "For RandomizedSearchCV, use:\n",
        "\n",
        "* `cv=5`,\n",
        "* `verbose=2`,\n",
        "* `random_state=42`,\n",
        "* `n_jobs=-1`,\n",
        "\n",
        "Record & print out:\n",
        "\n",
        "* the highest  mean cross-validated accuracy/score, and\n",
        "* the value of the hyperparameter you tuned, that achieved the highest accuracy/score.\n",
        "* i.e: *Best n_estimators: 60, Best Max Features: log2, Best Accuracy: 0.987654321*\n"
      ]
    },
    {
      "cell_type": "code",
      "execution_count": 33,
      "metadata": {
        "id": "ktQbcOyqLaV6"
      },
      "outputs": [],
      "source": [
        "### YOUR CODE HERE ###\n",
        "from sklearn.ensemble import RandomForestClassifier\n",
        "def random_forest_classifier():\n",
        "    pipeline = Pipeline([\n",
        "            ('scaler', StandardScaler()),\n",
        "            ('rf', RandomForestClassifier(random_state=42))\n",
        "        ])\n",
        "\n",
        "    # Define the hyperparameter distribution\n",
        "    param_distributions = {\n",
        "        'rf__max_features': ['sqrt', 'log2', 0.1, 0.25, 0.5],  \n",
        "        'rf__n_estimators': randint(10, 200)  \n",
        "    }\n",
        "    \n",
        "    random_search = RandomizedSearchCV(\n",
        "        estimator=pipeline,\n",
        "        param_distributions=param_distributions,\n",
        "        cv=5, \n",
        "        verbose=2, \n",
        "        random_state=42, \n",
        "        n_jobs=-1, \n",
        "        n_iter=500,\n",
        "        )\n",
        "\n",
        "    random_search.fit(X_train, y_train)\n",
        "\n",
        "    # find the highest man cv acc and best hyperparameters\n",
        "    best_score = random_search.best_score_\n",
        "    best_params = random_search.best_params_\n",
        "    \n",
        "    best_max_features = best_params[\"rf__max_features\"]\n",
        "    best_n_estimators = best_params[\"rf__n_estimators\"]\n",
        "    \n",
        "    print(f\"Best n_estimators: {best_n_estimators}, Best Max Features: {best_max_features}, Best Accuracy: {best_score}!\")\n",
        "    return f\"Best n_estimators: {best_n_estimators}, Best Max Features: {best_max_features}, Best Accuracy: {best_score}!\""
      ]
    },
    {
      "cell_type": "code",
      "execution_count": 34,
      "metadata": {},
      "outputs": [
        {
          "name": "stdout",
          "output_type": "stream",
          "text": [
            "Fitting 5 folds for each of 500 candidates, totalling 2500 fits\n",
            "Best n_estimators: 81, Best Max Features: 0.1, Best Accuracy: 0.9912195121951219!\n"
          ]
        }
      ],
      "source": [
        "rf_result = random_forest_classifier()"
      ]
    },
    {
      "cell_type": "markdown",
      "metadata": {
        "id": "WXToB8JLLbBp"
      },
      "source": [
        "## Part C1.3: Bagging (ensemble of bagged trees) **[5 Marks]**\n",
        "\n",
        "Similarly, train a bagging classifier on the standardized full feature dataset (read the [documentation](https://scikit-learn.org/stable/modules/generated/sklearn.ensemble.RandomForestClassifier.html) and check the example there.) Here we can set the max_features to the number of features in our dataset.\n",
        "\n",
        "\n",
        "Then tune the `n_estimators` parameter of the classifier using cross-validation (CV).\n",
        "\n",
        "Set:\n",
        "\n",
        "* `n_estimators = [10, 50, 100, 200]`\n",
        "\n",
        "\n",
        "Record & print out:\n",
        "\n",
        "* the highest  mean cross-validated accuracy/score, and\n",
        "* the value of the hyperparameter you tuned, that achieved the highest accuracy/score.\n",
        "* i.e: *Best n_estimators (Bagged Trees): 100, Best Accuracy (Bagged Trees): 0.987654321*\n"
      ]
    },
    {
      "cell_type": "code",
      "execution_count": 38,
      "metadata": {
        "id": "_-vOpIS9LehZ"
      },
      "outputs": [],
      "source": [
        "### YOUR CODE HERE ###\n",
        "from sklearn.ensemble import BaggingClassifier\n",
        "from sklearn.model_selection import GridSearchCV\n",
        "def bagging_classifier():\n",
        "    # total feature\n",
        "    total_feature = X_train.shape[1]\n",
        "    \n",
        "    # according to week 4's tut:\n",
        "    \"\"\"Recall\n",
        "    that bagging is simply a special case of a random forest with m=p. (max_feature=total_features)\n",
        "    Therefore, the `RandomForestRegressor()`  function can be used to\n",
        "    perform both bagging and random forests\"\"\"\n",
        "    # so I set the max_features=total_features, which is 6, to have bagging \n",
        "    pipeline = Pipeline([\n",
        "            ('scaler', StandardScaler()),\n",
        "            ('rf', RandomForestClassifier(max_features=total_feature, random_state=42))\n",
        "        ])\n",
        "\n",
        "    # Define the hyperparameter distribution\n",
        "    param_grid = {\n",
        "        'rf__n_estimators': [10, 50, 100, 200]  \n",
        "    }\n",
        "    \n",
        "    grid_search = GridSearchCV(\n",
        "        estimator=pipeline,\n",
        "        param_grid=param_grid,\n",
        "        cv=5, \n",
        "        verbose=2, \n",
        "        n_jobs=-1, \n",
        "        )\n",
        "\n",
        "    grid_search.fit(X_train, y_train)\n",
        "\n",
        "    # find the highest man cv acc and best hyperparameters\n",
        "    best_score = grid_search.best_score_\n",
        "    best_params = grid_search.best_params_\n",
        "    \n",
        "    best_n_estimators = best_params[\"rf__n_estimators\"]\n",
        "    \n",
        "    print(f\"Best n_estimators (Bagged Trees): {best_n_estimators}, Best Accuracy (Bagged Trees): {best_score}\")\n",
        "    return f\"Best n_estimators (Bagged Trees): {best_n_estimators}, Best Accuracy (Bagged Trees): {best_score}\""
      ]
    },
    {
      "cell_type": "code",
      "execution_count": 39,
      "metadata": {},
      "outputs": [
        {
          "name": "stdout",
          "output_type": "stream",
          "text": [
            "Fitting 5 folds for each of 4 candidates, totalling 20 fits\n",
            "Best n_estimators (Bagged Trees): 100, Best Accuracy (Bagged Trees): 0.9853610712577714\n"
          ]
        }
      ],
      "source": [
        "bc_result = bagging_classifier()"
      ]
    },
    {
      "cell_type": "markdown",
      "metadata": {
        "id": "r3Obwye9LgSC"
      },
      "source": [
        "## Part C1.4: Gradient Boosting Classifier **[5 Marks]**\n",
        "\n",
        "Similarly, train a Gradient Boosting classifier on the standardized full feature dataset (read the [documentation](https://scikit-learn.org/stable/modules/generated/sklearn.ensemble.GradientBoostingClassifier.html) and check the example there.)\n",
        "\n",
        "\n",
        "Then tune the hyperparameters `n_estimators`, `learning_rate`, and `max_depth` using [RandomizedSearchCV](https://scikit-learn.org/stable/modules/generated/sklearn.model_selection.RandomizedSearchCV.html) with `n_iter = 500`.\n",
        "\n",
        "For the ranges of those hyperparameters please do the following:  \n",
        "\n",
        "*   `learning_rate = uniform(0, 0.15)`\n",
        "*   `max_depth = [1,2,3] `\n",
        "*   `n_estimators = randint(10, 200)`\n",
        "\n",
        "\n",
        "For RandomizedSearchCV, use:\n",
        "\n",
        "* `cv=5`,\n",
        "* `verbose=2`,\n",
        "* `random_state=42`,\n",
        "* `n_jobs=-1`,\n",
        "\n",
        "Record & print out:\n",
        "\n",
        "* the highest  mean cross-validated accuracy/score, and\n",
        "* the value of the hyperparameter you tuned, that achieved the highest accuracy/score.\n",
        "* i.e: *n_estimators: 100, Best Learning Rate: 0.14, Best Max Depth: 2, Best Accuracy: 0.987654321*\n"
      ]
    },
    {
      "cell_type": "code",
      "execution_count": 40,
      "metadata": {
        "id": "xA8PRQqlMdLr"
      },
      "outputs": [],
      "source": [
        "### YOUR CODE HERE ###\n",
        "from sklearn.ensemble import GradientBoostingClassifier\n",
        "from scipy.stats import uniform\n",
        "def gradient_boosting_classifier():\n",
        "    pipeline = Pipeline([\n",
        "            ('scaler', StandardScaler()),\n",
        "            ('gb', GradientBoostingClassifier(random_state=42))\n",
        "        ])\n",
        "\n",
        "    # Define the hyperparameter distribution\n",
        "    param_distributions = {\n",
        "        'gb__learning_rate': uniform(0, 0.15),  \n",
        "        'gb__max_depth' : [1, 2, 3],\n",
        "        'gb__n_estimators': randint(10, 200)  \n",
        "    }\n",
        "    \n",
        "    random_search = RandomizedSearchCV(\n",
        "        estimator=pipeline,\n",
        "        param_distributions=param_distributions,\n",
        "        cv=5, \n",
        "        verbose=2, \n",
        "        random_state=42, \n",
        "        n_jobs=-1, \n",
        "        n_iter=500,\n",
        "        )\n",
        "\n",
        "    random_search.fit(X_train, y_train)\n",
        "\n",
        "    # find the highest man cv acc and best hyperparameters\n",
        "    best_score = random_search.best_score_\n",
        "    best_params = random_search.best_params_\n",
        "    \n",
        "    best_max_depth = best_params[\"gb__max_depth\"]\n",
        "    best_learning_rate = best_params['gb__learning_rate']\n",
        "    best_n_estimators = best_params[\"gb__n_estimators\"]\n",
        "    \n",
        "    print(f\"n_estimators: {best_n_estimators}, Best Learning Rate: {best_learning_rate}, Best Max Depth: {best_max_depth}, Best Accuracy: {best_score}!\")\n",
        "    return f\"n_estimators: {best_n_estimators}, Best Learning Rate: {best_learning_rate}, Best Max Depth: {best_max_depth}, Best Accuracy: {best_score}!\""
      ]
    },
    {
      "cell_type": "code",
      "execution_count": 41,
      "metadata": {},
      "outputs": [
        {
          "name": "stdout",
          "output_type": "stream",
          "text": [
            "Fitting 5 folds for each of 500 candidates, totalling 2500 fits\n",
            "n_estimators: 113, Best Learning Rate: 0.1363980603118173, Best Max Depth: 2, Best Accuracy: 0.9882926829268293!\n"
          ]
        }
      ],
      "source": [
        "gb_result = gradient_boosting_classifier()"
      ]
    },
    {
      "cell_type": "markdown",
      "metadata": {
        "id": "1TquiIOvMejj"
      },
      "source": [
        "## Pact C-2: Hyperplane-based Models **[10 Marks Total]**"
      ]
    },
    {
      "cell_type": "markdown",
      "metadata": {
        "id": "yuCupzHZMjlE"
      },
      "source": [
        "## Part C2.1: SVM with Polynomial Kernel  **[5 Marks]**\n",
        "\n",
        "Train an SVM with Polynomial Kernel on the standardized full feature dataset (read the [documentation](https://scikit-learn.org/stable/modules/generated/sklearn.svm.SVC.html) and check the example there.) with `poly` as the kernel setting. Tune the `C` and `degrees` parameters of the classifier using using [RandomizedSearchCV](https://scikit-learn.org/stable/modules/generated/sklearn.model_selection.RandomizedSearchCV.html) with `n_iter = 500`.\n",
        "\n",
        "set:\n",
        "* ` 'C': expon(scale=10)`\n",
        "* `'degree': randint(2, 6)`\n",
        "    \n",
        "For RandomizedSearchCV, use:\n",
        "\n",
        "* `cv=5`,\n",
        "* `verbose=2`,\n",
        "* `random_state=42`,\n",
        "* `n_jobs=-1`,\n",
        "\n",
        "Record & print out:\n",
        "\n",
        "* the highest  mean cross-validated accuracy/score, and\n",
        "* the value of the hyperparameter you tuned, that achieved the highest accuracy/score.\n",
        "* i.e: *Best C: 2, Best degree: 5, Best Accuracy: 0.98754321*"
      ]
    },
    {
      "cell_type": "code",
      "execution_count": 42,
      "metadata": {
        "id": "L9rOBa5PMeJY"
      },
      "outputs": [],
      "source": [
        "### YOUR CODE HERE ###\n",
        "from sklearn.svm import SVC\n",
        "from scipy.stats import expon\n",
        "def SVM_Polynomial_Kernal():\n",
        "    pipeline = Pipeline([\n",
        "            ('scaler', StandardScaler()),\n",
        "            ('svc', SVC(kernel='poly', random_state=42))\n",
        "        ])\n",
        "\n",
        "    # Define the hyperparameter distribution\n",
        "    param_distributions = {\n",
        "        'svc__C': expon(scale=10),  \n",
        "        'svc__degree': randint(2, 6)  \n",
        "    }\n",
        "    \n",
        "    random_search = RandomizedSearchCV(\n",
        "        estimator=pipeline,\n",
        "        param_distributions=param_distributions,\n",
        "        cv=5, \n",
        "        verbose=2, \n",
        "        random_state=42, \n",
        "        n_jobs=-1, \n",
        "        n_iter=500,\n",
        "        )\n",
        "\n",
        "    random_search.fit(X_train, y_train)\n",
        "\n",
        "    # find the highest man cv acc and best hyperparameters\n",
        "    best_score = random_search.best_score_\n",
        "    best_params = random_search.best_params_\n",
        "    \n",
        "    best_C = best_params[\"svc__C\"]\n",
        "    best_degree = best_params['svc__degree']\n",
        "\n",
        "    \n",
        "    print(f\"Best C: {best_C}, Best degree: {best_degree}, Best Accuracy: {best_score}!\")\n",
        "    return f\"Best C: {best_C}, Best degree: {best_degree}, Best Accuracy: {best_score}!\""
      ]
    },
    {
      "cell_type": "code",
      "execution_count": 43,
      "metadata": {},
      "outputs": [
        {
          "name": "stdout",
          "output_type": "stream",
          "text": [
            "Fitting 5 folds for each of 500 candidates, totalling 2500 fits\n",
            "Best C: 3.9532781771198433, Best degree: 3, Best Accuracy: 0.9834050693448111!\n"
          ]
        }
      ],
      "source": [
        "svm_ploy_result = SVM_Polynomial_Kernal()"
      ]
    },
    {
      "cell_type": "markdown",
      "metadata": {
        "id": "j3QXOUD2Mm9v"
      },
      "source": [
        "## Part C2.2: SVM with Radial Kernel **[5 Marks]**\n",
        "\n",
        "Similarly train an SVM with radial kernel on the standardized full feature dataset (read the [documentation](https://scikit-learn.org/stable/modules/generated/sklearn.svm.SVC.html) and check the example there.) with `rbf` as the kernel value. Tune the `C` and `gamma` parameters of the classifier using [RandomizedSearchCV](https://scikit-learn.org/stable/modules/generated/sklearn.model_selection.RandomizedSearchCV.html) with `n_iter = 500`.\n",
        "\n",
        "set:\n",
        "\n",
        "*  `'C': expon(scale=10)`\n",
        "* `'gamma': ['scale', 'auto', 0.1, 1] `\n",
        "\n",
        "For RandomizedSearchCV, use:\n",
        "\n",
        "* `cv=5`,\n",
        "* `verbose=2`,\n",
        "* `random_state=42`,\n",
        "* `n_jobs=-1`,\n",
        "\n",
        "Record & print out:\n",
        "\n",
        "* the highest  mean cross-validated accuracy/score, and\n",
        "* the value of the hyperparameter you tuned, that achieved the highest accuracy/score.\n",
        "* i.e: *Best C: 2, Best Gamma: scale, Best Accuracy: 0.98754321*\n"
      ]
    },
    {
      "cell_type": "code",
      "execution_count": 44,
      "metadata": {
        "id": "f0vHWSfwMrY7"
      },
      "outputs": [],
      "source": [
        "### YOUR CODE HERE ###\n",
        "def SVM_Radial_Kernal():\n",
        "    pipeline = Pipeline([\n",
        "            ('scaler', StandardScaler()),\n",
        "            ('rbf', SVC(kernel='rbf', random_state=42))\n",
        "        ])\n",
        "\n",
        "    # Define the hyperparameter distribution\n",
        "    param_distributions = {\n",
        "        'rbf__C': expon(scale=10),  \n",
        "        'rbf__gamma': ['scale', 'auto', 0.1, 1]\n",
        "    }\n",
        "    \n",
        "    random_search = RandomizedSearchCV(\n",
        "        estimator=pipeline,\n",
        "        param_distributions=param_distributions,\n",
        "        cv=5, \n",
        "        verbose=2, \n",
        "        random_state=42, \n",
        "        n_jobs=-1, \n",
        "        n_iter=500,\n",
        "        )\n",
        "\n",
        "    random_search.fit(X_train, y_train)\n",
        "\n",
        "    # find the highest man cv acc and best hyperparameters\n",
        "    best_score = random_search.best_score_\n",
        "    best_params = random_search.best_params_\n",
        "    \n",
        "    best_C = best_params[\"rbf__C\"]\n",
        "    best_gamma = best_params['rbf__gamma']\n",
        "\n",
        "    \n",
        "    print(f\"Best C: {best_C}, Best Gamma: {best_gamma}, Best Accuracy: {best_score}!\")\n",
        "    return f\"Best C: {best_C}, Best Gamma: {best_gamma}, Best Accuracy: {best_score}!\""
      ]
    },
    {
      "cell_type": "code",
      "execution_count": 45,
      "metadata": {},
      "outputs": [
        {
          "name": "stdout",
          "output_type": "stream",
          "text": [
            "Fitting 5 folds for each of 500 candidates, totalling 2500 fits\n",
            "Best C: 2.8673882298329834, Best Gamma: scale, Best Accuracy: 0.9931707317073171!\n"
          ]
        }
      ],
      "source": [
        "svm_radial_result = SVM_Radial_Kernal()"
      ]
    },
    {
      "cell_type": "markdown",
      "metadata": {
        "id": "l3kSpKuiMrvw"
      },
      "source": [
        "# Part D: Report the accuracy of all your tuned models **[7 Marks]**"
      ]
    },
    {
      "cell_type": "markdown",
      "metadata": {
        "id": "Eas2Q0y-MuIo"
      },
      "source": [
        "Congratulations! So far you have developed 7 models, these models are:\n",
        "\n",
        "1.   Decision Tree\n",
        "2.   Random Forest\n",
        "3.   Bagged Trees\n",
        "4.   Gradient Boosted Trees\n",
        "5.   SVM with Polynomial Kernel\n",
        "6.   SVM with RBF Kernel\n",
        "7.   The Feature Selection Model you developed in Part B\n",
        "\n",
        "\n",
        "\n",
        "Either make a table or simply print out the results for all of your models, including the feature-removal with standardization.\n",
        "\n",
        "(1 mark for each model)\n"
      ]
    },
    {
      "cell_type": "code",
      "execution_count": 46,
      "metadata": {
        "id": "OOwkUtxOMzji"
      },
      "outputs": [
        {
          "name": "stdout",
          "output_type": "stream",
          "text": [
            "Results of all of the 7 models:\n",
            "1. Decision Tree: Best performance using decision tree is 0.9824390243902439 with a max depth of 5 and a min samples split of 3!\n",
            "2. Random Forest: Best n_estimators: 81, Best Max Features: 0.1, Best Accuracy: 0.9912195121951219!\n",
            "3. Bagged Trees: Best n_estimators (Bagged Trees): 100, Best Accuracy (Bagged Trees): 0.9853610712577714\n",
            "4. Gradient Boosted Trees: n_estimators: 113, Best Learning Rate: 0.1363980603118173, Best Max Depth: 2, Best Accuracy: 0.9882926829268293!\n",
            "5. SVM with Polynomial Kernel: Best C: 3.9532781771198433, Best degree: 3, Best Accuracy: 0.9834050693448111!\n",
            "6. SVM with RBF kernel: Best C: 2.8673882298329834, Best Gamma: scale, Best Accuracy: 0.9931707317073171!\n",
            "7. Feature Selection Model in Part B: best k value: 8, highest validation accurarcy: 0.9902391200382592\n"
          ]
        }
      ],
      "source": [
        "### YOUR CODE HERE ###\n",
        "print(\"Results of all of the 7 models:\")\n",
        "print(f\"1. Decision Tree: {dt_result}\\n\\\n",
        "2. Random Forest: {rf_result}\\n\\\n",
        "3. Bagged Trees: {bc_result}\\n\\\n",
        "4. Gradient Boosted Trees: {gb_result}\\n\\\n",
        "5. SVM with Polynomial Kernel: {svm_ploy_result}\\n\\\n",
        "6. SVM with RBF kernel: {svm_radial_result}\\n\\\n",
        "7. Feature Selection Model in Part B: best k value: {best_k}, highest validation accurarcy: {highest_val_acc}\")"
      ]
    },
    {
      "cell_type": "markdown",
      "metadata": {
        "id": "opDfkBQOM0wA"
      },
      "source": [
        "# Part E: Evaluation on Test Data **[10 Marks Total]**"
      ]
    },
    {
      "cell_type": "markdown",
      "metadata": {
        "id": "_VjEKNi-M25U"
      },
      "source": [
        "\n",
        "## Part E1: Performance measures **[6 Marks]**\n",
        "\n",
        "Select your model with the highest accuracy and apply it to the test dataset initially set aside.\n",
        "\n",
        "Compute the following using the standardized test data (note: never standardize the y data, only standardize the x data):\n",
        "\n",
        "\n",
        "\n",
        "1.   Accuracy,\n",
        "2.   Precision,\n",
        "3.   Recall,\n",
        "4.   Fall-out rate,\n",
        "5.   F1 score,\n",
        "6.   Confusion table\n",
        "\n",
        "(**1** mark for each performance metric)"
      ]
    },
    {
      "cell_type": "markdown",
      "metadata": {},
      "source": [
        "1st find the model with highest accuracy:\n",
        "- based on the printed results from the previous part, the SVM with RBF kernel has the highest accurarcy: 0.99317."
      ]
    },
    {
      "cell_type": "code",
      "execution_count": 47,
      "metadata": {
        "id": "YBl6h10nM5O8"
      },
      "outputs": [],
      "source": [
        "### YOUR CODE HERE ###\n",
        "from sklearn.metrics import (\n",
        "    accuracy_score,\n",
        "    precision_score,\n",
        "    recall_score,\n",
        "    f1_score,\n",
        "    confusion_matrix\n",
        ")\n",
        "# modify the original model to let it take test dataset\n",
        "def test_SVM_Radial_Kernal(X_test):\n",
        "    pipeline = Pipeline([\n",
        "            ('scaler', StandardScaler()),\n",
        "            ('rbf', SVC(kernel='rbf', random_state=42))\n",
        "        ])\n",
        "\n",
        "    # Define the hyperparameter distribution\n",
        "    param_distributions = {\n",
        "        'rbf__C': expon(scale=10),  \n",
        "        'rbf__gamma': ['scale', 'auto', 0.1, 1]\n",
        "    }\n",
        "    \n",
        "    random_search = RandomizedSearchCV(\n",
        "        estimator=pipeline,\n",
        "        param_distributions=param_distributions,\n",
        "        cv=5, \n",
        "        verbose=2, \n",
        "        random_state=42, \n",
        "        n_jobs=-1, \n",
        "        n_iter=500,\n",
        "        )\n",
        "\n",
        "    random_search.fit(X_train, y_train)\n",
        "\n",
        "    # pred using this modelf\n",
        "    pred = random_search.predict(X_test)\n",
        "    \n",
        "    # compute the required data\n",
        "    accuracy = accuracy_score(y_test, pred)\n",
        "    precision = precision_score(y_test, pred)\n",
        "    recall = recall_score(y_test, pred)\n",
        "    f1 = f1_score(y_test, pred)\n",
        "    cm = confusion_matrix(y_test, pred)\n",
        "\n",
        "    # calculating fall-out rate by hand\n",
        "    TN, FP, FN, TP = confusion_matrix(y_test, pred).ravel()\n",
        "\n",
        "    fall_out = FP / (FP+TN)\n",
        "    \n",
        "    return accuracy, precision, recall, f1, fall_out, cm"
      ]
    },
    {
      "cell_type": "code",
      "execution_count": 48,
      "metadata": {},
      "outputs": [
        {
          "name": "stdout",
          "output_type": "stream",
          "text": [
            "Fitting 5 folds for each of 500 candidates, totalling 2500 fits\n"
          ]
        },
        {
          "data": {
            "text/plain": [
              "(0.9931662870159453,\n",
              " 0.9933110367892977,\n",
              " 0.9966442953020134,\n",
              " 0.9949748743718593,\n",
              " 0.014184397163120567,\n",
              " array([[139,   2],\n",
              "        [  1, 297]], dtype=int64))"
            ]
          },
          "execution_count": 48,
          "metadata": {},
          "output_type": "execute_result"
        }
      ],
      "source": [
        "test_result = test_SVM_Radial_Kernal(X_test)\n",
        "test_result"
      ]
    },
    {
      "cell_type": "code",
      "execution_count": 49,
      "metadata": {},
      "outputs": [
        {
          "name": "stdout",
          "output_type": "stream",
          "text": [
            "Accuracy: 0.9931662870159453\n",
            "Precision: 0.9933110367892977\n",
            "Recall: 0.9966442953020134\n",
            "F1 Score: 0.9949748743718593\n",
            "Fall-out rate: 0.014184397163120567\n",
            "Confusion Matrix:\n",
            "[[139   2]\n",
            " [  1 297]]\n"
          ]
        }
      ],
      "source": [
        "print(f\"Accuracy: {test_result[0]}\")\n",
        "print(f\"Precision: {test_result[1]}\")\n",
        "print(f\"Recall: {test_result[2]}\")\n",
        "print(f\"F1 Score: {test_result[3]}\")\n",
        "print(f\"Fall-out rate: {test_result[4]}\")\n",
        "print(f\"Confusion Matrix:\\n{test_result[5]}\")"
      ]
    },
    {
      "cell_type": "markdown",
      "metadata": {
        "id": "R0K3XLBMM8V3"
      },
      "source": [
        "## Part E2: ROC and AUC **[4 Marks]**\n",
        "\n",
        "Using the same selected model from the previous part, plot the ROC curve **[2]** and reporting its AUC **[2]** on the test data.\n"
      ]
    },
    {
      "cell_type": "markdown",
      "metadata": {},
      "source": [
        "There is not much change. Bagging and random forests cannot overfit by\n",
        "increasing the number of trees, but can underfit if the number is too small.\n",
        "\n",
        "Growing a random forest proceeds in exactly the same way, except that\n",
        "we use a smaller value of the `max_features` argument. By default,\n",
        "`RandomForestRegressor()`  uses $p$ variables when building a random\n",
        "forest of regression trees (i.e. it defaults to bagging), and `RandomForestClassifier()` uses\n",
        "$\\sqrt{p}$ variables when building a\n",
        "random forest of classification trees. Here we use `max_features=6`."
      ]
    },
    {
      "cell_type": "code",
      "execution_count": 50,
      "metadata": {},
      "outputs": [],
      "source": [
        "### YOUR CODE HERE ###\n",
        "# modify the original model to let it take test dataset\n",
        "def test_SVM_Radial_Kernal(X_test):\n",
        "    pipeline = Pipeline([\n",
        "            ('scaler', StandardScaler()),\n",
        "            ('rbf', SVC(kernel='rbf', random_state=42, probability=True))  # set the prob to true\n",
        "        ])\n",
        "\n",
        "    # Define the hyperparameter distribution\n",
        "    param_distributions = {\n",
        "        'rbf__C': expon(scale=10),  \n",
        "        'rbf__gamma': ['scale', 'auto', 0.1, 1]\n",
        "    }\n",
        "    \n",
        "    random_search = RandomizedSearchCV(\n",
        "        estimator=pipeline,\n",
        "        param_distributions=param_distributions,\n",
        "        cv=5, \n",
        "        verbose=2, \n",
        "        random_state=42, \n",
        "        n_jobs=-1, \n",
        "        n_iter=500,\n",
        "        )\n",
        "\n",
        "    random_search.fit(X_train, y_train)\n",
        "\n",
        "    # pred pro\n",
        "    pred_proba = random_search.predict_proba(X_test)[:, 1]\n",
        "    \n",
        "   \n",
        "    return pred_proba"
      ]
    },
    {
      "cell_type": "code",
      "execution_count": 51,
      "metadata": {},
      "outputs": [
        {
          "name": "stdout",
          "output_type": "stream",
          "text": [
            "Fitting 5 folds for each of 500 candidates, totalling 2500 fits\n"
          ]
        }
      ],
      "source": [
        "test_result_2 = test_SVM_Radial_Kernal(X_test)"
      ]
    },
    {
      "cell_type": "code",
      "execution_count": 52,
      "metadata": {
        "id": "CgY8lKNTQkpT"
      },
      "outputs": [
        {
          "data": {
            "image/png": "[encoded data removed]",
            "text/plain": [
              "<Figure size 500x400 with 1 Axes>"
            ]
          },
          "metadata": {},
          "output_type": "display_data"
        }
      ],
      "source": [
        "from sklearn import metrics\n",
        "# following code are based on week1's tut\n",
        "fpr, tpr, thresholds = metrics.roc_curve(y_test, test_result_2)\n",
        "plt.figure(figsize=(5,4))\n",
        "plt.plot(fpr, tpr)\n",
        "plt.xlabel('False Positive Rate (1 - Specificity)')\n",
        "plt.ylabel('True Positive Rate (Sensitivity)')\n",
        "plt.title(\"ROC Curve\")\n",
        "plt.grid(True)"
      ]
    },
    {
      "cell_type": "code",
      "execution_count": 53,
      "metadata": {},
      "outputs": [
        {
          "name": "stdout",
          "output_type": "stream",
          "text": [
            "AUC 0.9986910371745443\n"
          ]
        }
      ],
      "source": [
        "print('AUC', metrics.roc_auc_score(y_test, test_result_2))"
      ]
    },
    {
      "cell_type": "code",
      "execution_count": 1,
      "metadata": {},
      "outputs": [
        {
          "name": "stderr",
          "output_type": "stream",
          "text": [
            "[NbConvertApp] Converting notebook F24_MIE_Project_1.ipynb to script\n",
            "[NbConvertApp] Writing 47128 bytes to F24_MIE_Project_1.py\n"
          ]
        }
      ],
      "source": [
        "!jupyter nbconvert --to script F24_MIE_Project_1.ipynb"
      ]
    }
  ],
  "metadata": {
    "colab": {
      "provenance": []
    },
    "kernelspec": {
      "display_name": "Python 3",
      "name": "python3"
    },
    "language_info": {
      "codemirror_mode": {
        "name": "ipython",
        "version": 3
      },
      "file_extension": ".py",
      "mimetype": "text/x-python",
      "name": "python",
      "nbconvert_exporter": "python",
      "pygments_lexer": "ipython3",
      "version": "3.12.4"
    }
  },
  "nbformat": 4,
  "nbformat_minor": 0
}
